{
 "cells": [
  {
   "cell_type": "markdown",
   "metadata": {
    "colab_type": "text",
    "id": "view-in-github"
   },
   "source": [
    "<a href=\"https://colab.research.google.com/github/Dekelv/ESPCN-pytorch/blob/develop/colab_espcn.ipynb\" target=\"_parent\"><img src=\"https://colab.research.google.com/assets/colab-badge.svg\" alt=\"Open In Colab\"/></a>"
   ]
  },
  {
   "cell_type": "code",
   "execution_count": 4,
   "metadata": {
    "colab": {
     "base_uri": "https://localhost:8080/",
     "height": 34
    },
    "colab_type": "code",
    "id": "gWUHglUJgDvC",
    "outputId": "8606c5ba-4e0e-4b45-c803-c48f56417244"
   },
   "outputs": [
    {
     "data": {
      "text/plain": [
       "'GPU connected'"
      ]
     },
     "execution_count": 4,
     "metadata": {
      "tags": []
     },
     "output_type": "execute_result"
    }
   ],
   "source": [
    "import math\n",
    "import pandas as pd\n",
    "import torch\n",
    "from torch import nn\n",
    "\n",
    "'GPU connected' if torch.cuda.is_available() else 'GPU connection failed'"
   ]
  },
  {
   "cell_type": "code",
   "execution_count": 2,
   "metadata": {
    "colab": {
     "base_uri": "https://localhost:8080/",
     "height": 122
    },
    "colab_type": "code",
    "id": "lPqiUDmygWrO",
    "outputId": "833ced0a-777b-4943-c99d-e09dd1d8eb26"
   },
   "outputs": [
    {
     "name": "stdout",
     "output_type": "stream",
     "text": [
      "Go to this URL in a browser: https://accounts.google.com/o/oauth2/auth?client_id=947318989803-6bn6qk8qdgf4n4g3pfee6491hc0brc4i.apps.googleusercontent.com&redirect_uri=urn%3aietf%3awg%3aoauth%3a2.0%3aoob&response_type=code&scope=email%20https%3a%2f%2fwww.googleapis.com%2fauth%2fdocs.test%20https%3a%2f%2fwww.googleapis.com%2fauth%2fdrive%20https%3a%2f%2fwww.googleapis.com%2fauth%2fdrive.photos.readonly%20https%3a%2f%2fwww.googleapis.com%2fauth%2fpeopleapi.readonly\n",
      "\n",
      "Enter your authorization code:\n",
      "··········\n",
      "Mounted at /content/drive\n"
     ]
    }
   ],
   "source": [
    "from google.colab import drive\n",
    "drive.mount('/content/drive')"
   ]
  },
  {
   "cell_type": "code",
   "execution_count": 0,
   "metadata": {
    "colab": {},
    "colab_type": "code",
    "id": "3pwoxQ6aEjMB"
   },
   "outputs": [],
   "source": [
    "# Based on the explanation given in the paper,\n",
    "# Number of layers (l) = 3\n",
    "# kernel, i/p (f_i, n_i) where (5,64) -> (3, 32) -> 3\n",
    "# GELU paper https://arxiv.org/pdf/1606.08415v3.pdf\n",
    "# GELU incorporates regularisation (dropout) inherently. It demonstrates improvements in Computer Vision tasks.\n",
    "\n",
    "class ESPCN(nn.Module):\n",
    "    def __init__(self, scale_factor, num_channels=1):\n",
    "        super(ESPCN, self).__init__()\n",
    "        self.first_part = nn.Sequential(\n",
    "            nn.Conv2d(num_channels, 64, kernel_size=5, padding=5//2),\n",
    "            # used GeLU as activation function PSNR -> 32.99\n",
    "            nn.GELU(),\n",
    "            nn.Conv2d(64, 32, kernel_size=3, padding=3//2),\n",
    "            nn.GELU(),\n",
    "        )\n",
    "        # pixel shuffle is basically up-sampling the data from LR -> HR\n",
    "        self.last_part = nn.Sequential(\n",
    "            nn.Conv2d(32, num_channels * (scale_factor ** 2), kernel_size=3, padding=3 // 2),\n",
    "            nn.PixelShuffle(scale_factor)\n",
    "        )\n",
    "\n",
    "        self._initialize_weights()\n",
    "\n",
    "    def _initialize_weights(self):\n",
    "        for m in self.modules():\n",
    "            if isinstance(m, nn.Conv2d):\n",
    "                if m.in_channels == 32:\n",
    "                    nn.init.normal_(m.weight.data, mean=0.0, std=0.001)\n",
    "                    nn.init.zeros_(m.bias.data)\n",
    "                else:\n",
    "                    nn.init.normal_(m.weight.data, mean=0.0, std=math.sqrt(2/(m.out_channels*m.weight.data[0][0].numel())))\n",
    "                    nn.init.zeros_(m.bias.data)\n",
    "\n",
    "    def forward(self, x):\n",
    "        x = self.first_part(x)\n",
    "        x = self.last_part(x)\n",
    "        return x\n",
    "\n",
    "\n"
   ]
  },
  {
   "cell_type": "code",
   "execution_count": 0,
   "metadata": {
    "colab": {},
    "colab_type": "code",
    "id": "cM5GgBzFU14m"
   },
   "outputs": [],
   "source": [
    "import h5py\n",
    "import numpy as np\n",
    "from torch.utils.data import Dataset\n",
    "\n",
    "\n",
    "class TrainDataset(Dataset):\n",
    "    def __init__(self, h5_file):\n",
    "        super(TrainDataset, self).__init__()\n",
    "        self.h5_file = h5_file\n",
    "\n",
    "    # returns the data points with 'lr' as inputs and 'hr' as labels\n",
    "    def __getitem__(self, idx):\n",
    "        with h5py.File(self.h5_file, 'r') as f:\n",
    "            return np.expand_dims(f['lr'][idx] / 255., 0), np.expand_dims(f['hr'][idx] / 255., 0)\n",
    "\n",
    "    def __len__(self):\n",
    "        with h5py.File(self.h5_file, 'r') as f:\n",
    "            return len(f['lr'])\n",
    "\n",
    "\n",
    "class EvalDataset(Dataset):\n",
    "    def __init__(self, h5_file):\n",
    "        super(EvalDataset, self).__init__()\n",
    "        self.h5_file = h5_file\n",
    "\n",
    "    def __getitem__(self, idx):\n",
    "        with h5py.File(self.h5_file, 'r') as f:\n",
    "            return np.expand_dims(f['lr'][str(idx)][:, :] / 255., 0), np.expand_dims(f['hr'][str(idx)][:, :] / 255., 0)\n",
    "\n",
    "    def __len__(self):\n",
    "        with h5py.File(self.h5_file, 'r') as f:\n",
    "            return len(f['lr'])\n"
   ]
  },
  {
   "cell_type": "code",
   "execution_count": 0,
   "metadata": {
    "colab": {},
    "colab_type": "code",
    "id": "YC40IEcgU92O"
   },
   "outputs": [],
   "source": [
    "import torch\n",
    "import numpy as np\n",
    "\n",
    "\n",
    "def calc_patch_size(func):\n",
    "    def wrapper(args):\n",
    "        if args.scale == 2:\n",
    "            args.patch_size = 10\n",
    "        elif args.scale == 3:\n",
    "            args.patch_size = 7\n",
    "        elif args.scale == 4:\n",
    "            args.patch_size = 6\n",
    "        else:\n",
    "            raise Exception('Scale Error', args.scale)\n",
    "        return func(args)\n",
    "    return wrapper\n",
    "\n",
    "\n",
    "def convert_rgb_to_y(img, dim_order='hwc'):\n",
    "    if dim_order == 'hwc':\n",
    "        return 16. + (64.738 * img[..., 0] + 129.057 * img[..., 1] + 25.064 * img[..., 2]) / 256.\n",
    "    else:\n",
    "        return 16. + (64.738 * img[0] + 129.057 * img[1] + 25.064 * img[2]) / 256.\n",
    "\n",
    "\n",
    "def convert_rgb_to_ycbcr(img, dim_order='hwc'):\n",
    "    if dim_order == 'hwc':\n",
    "        y = 16. + (64.738 * img[..., 0] + 129.057 * img[..., 1] + 25.064 * img[..., 2]) / 256.\n",
    "        cb = 128. + (-37.945 * img[..., 0] - 74.494 * img[..., 1] + 112.439 * img[..., 2]) / 256.\n",
    "        cr = 128. + (112.439 * img[..., 0] - 94.154 * img[..., 1] - 18.285 * img[..., 2]) / 256.\n",
    "    else:\n",
    "        y = 16. + (64.738 * img[0] + 129.057 * img[1] + 25.064 * img[2]) / 256.\n",
    "        cb = 128. + (-37.945 * img[0] - 74.494 * img[1] + 112.439 * img[2]) / 256.\n",
    "        cr = 128. + (112.439 * img[0] - 94.154 * img[1] - 18.285 * img[2]) / 256.\n",
    "    return np.array([y, cb, cr]).transpose([1, 2, 0])\n",
    "\n",
    "\n",
    "def convert_ycbcr_to_rgb(img, dim_order='hwc'):\n",
    "    if dim_order == 'hwc':\n",
    "        r = 298.082 * img[..., 0] / 256. + 408.583 * img[..., 2] / 256. - 222.921\n",
    "        g = 298.082 * img[..., 0] / 256. - 100.291 * img[..., 1] / 256. - 208.120 * img[..., 2] / 256. + 135.576\n",
    "        b = 298.082 * img[..., 0] / 256. + 516.412 * img[..., 1] / 256. - 276.836\n",
    "    else:\n",
    "        r = 298.082 * img[0] / 256. + 408.583 * img[2] / 256. - 222.921\n",
    "        g = 298.082 * img[0] / 256. - 100.291 * img[1] / 256. - 208.120 * img[2] / 256. + 135.576\n",
    "        b = 298.082 * img[0] / 256. + 516.412 * img[1] / 256. - 276.836\n",
    "    return np.array([r, g, b]).transpose([1, 2, 0])\n",
    "\n",
    "\n",
    "def preprocess(img, device):\n",
    "    img = np.array(img).astype(np.float32)\n",
    "    ycbcr = convert_rgb_to_ycbcr(img)\n",
    "    x = ycbcr[..., 0]\n",
    "    x /= 255.\n",
    "    x = torch.from_numpy(x).to(device)\n",
    "    x = x.unsqueeze(0).unsqueeze(0)\n",
    "    return x, ycbcr\n",
    "\n",
    "\n",
    "def calc_psnr(img1, img2):\n",
    "    return 10. * torch.log10(1. / torch.mean((img1 - img2) ** 2))\n",
    "\n",
    "\n",
    "class AverageMeter(object):\n",
    "    def __init__(self):\n",
    "        self.reset()\n",
    "\n",
    "    def reset(self):\n",
    "        self.val = 0\n",
    "        self.avg = 0\n",
    "        self.sum = 0\n",
    "        self.count = 0\n",
    "\n",
    "    def update(self, val, n=1):\n",
    "        self.val = val\n",
    "        self.sum += val * n\n",
    "        self.count += n\n",
    "        self.avg = self.sum / self.count\n"
   ]
  },
  {
   "cell_type": "code",
   "execution_count": 0,
   "metadata": {
    "colab": {},
    "colab_type": "code",
    "id": "B6fern58Ungv"
   },
   "outputs": [],
   "source": [
    "import argparse\n",
    "import os\n",
    "import copy\n",
    "\n",
    "import torch\n",
    "from torch import nn\n",
    "import torch.optim as optim\n",
    "import torch.backends.cudnn as cudnn\n",
    "from torch.utils.data.dataloader import DataLoader\n",
    "from tqdm import tqdm\n",
    "\n",
    "# from models import ESPCN\n",
    "# from datasets import TrainDataset, EvalDataset\n",
    "# from utils import AverageMeter, calc_psnr\n",
    "\n",
    "\n",
    "# if __name__ == '__main__':\n",
    "    # parser = argparse.ArgumentParser()\n",
    "    # parser.add_argument('--train-file', type=str, required=True)\n",
    "    # parser.add_argument('--eval-file', type=str, required=True)\n",
    "    # parser.add_argument('--outputs-dir', type=str, required=True)\n",
    "    # parser.add_argument('--weights-file', type=str)\n",
    "    # parser.add_argument('--scale', type=int, default=3)\n",
    "    # parser.add_argument('--lr', type=float, default=1e-3)\n",
    "    # parser.add_argument('--batch-size', type=int, default=16)\n",
    "    # parser.add_argument('--num-epochs', type=int, default=200)\n",
    "    # parser.add_argument('--num-workers', type=int, default=8)\n",
    "    # parser.add_argument('--seed', type=int, default=123)\n",
    "    # args = parser.parse_args()\n",
    "def train(args):\n",
    "  # this is where the x3 comes from\n",
    "    # args.outputs_dir = os.path.join(args.outputs_dir, 'x{}'.format(args.scale))\n",
    "\n",
    "# check for drive path\n",
    "    # if not os.path.exists(args.outputs_dir):\n",
    "    #     os.makedirs(args.outputs_dir)\n",
    "\n",
    "    cudnn.benchmark = True\n",
    "    device = torch.device('cuda:0' if torch.cuda.is_available() else 'cpu')\n",
    "\n",
    "    torch.manual_seed(args.seed)\n",
    "    # Init ESPCN model from models.py\n",
    "    model = ESPCN(scale_factor=args.scale).to(device)\n",
    "    criterion = nn.MSELoss()\n",
    "    # lr is learning rate... where do they get this calculation for the last part from?\n",
    "    optimizer = optim.Adam([\n",
    "        {'params': model.first_part.parameters()},\n",
    "        {'params': model.last_part.parameters(), 'lr': args.lr * 0.1}\n",
    "    ], lr=args.lr)\n",
    "\n",
    "    # Brings the training data and does some processing\n",
    "    train_dataset = TrainDataset(args.train_file)\n",
    "    train_dataloader = DataLoader(dataset=train_dataset,\n",
    "                                  batch_size=args.batch_size,\n",
    "                                  shuffle=True,\n",
    "                                  num_workers=args.num_workers,\n",
    "                                  pin_memory=True)\n",
    "    eval_dataset = EvalDataset(args.eval_file)\n",
    "    eval_dataloader = DataLoader(dataset=eval_dataset, batch_size=1)\n",
    "\n",
    "    best_weights = copy.deepcopy(model.state_dict())\n",
    "    best_epoch = 0\n",
    "    best_psnr = 0.0\n",
    "\n",
    "    for epoch in range(args.num_epochs):\n",
    "        # A time decaying learning rate\n",
    "        for param_group in optimizer.param_groups:\n",
    "            param_group['lr'] = args.lr * (0.1 ** (epoch // int(args.num_epochs * 0.8)))\n",
    "\n",
    "        # Train mode\n",
    "        model.train()\n",
    "        epoch_losses = AverageMeter()\n",
    "\n",
    "        with tqdm(total=(len(train_dataset) - len(train_dataset) % args.batch_size), ncols=80) as t:\n",
    "            t.set_description('epoch: {}/{}'.format(epoch, args.num_epochs - 1))\n",
    "\n",
    "            for data in train_dataloader:\n",
    "                inputs, labels = data\n",
    "\n",
    "                inputs = inputs.to(device)\n",
    "                labels = labels.to(device)\n",
    "\n",
    "                # Core Model\n",
    "                preds = model(inputs)\n",
    "                loss = criterion(preds, labels)\n",
    "                # this must update the values with a user defined function\n",
    "                epoch_losses.update(loss.item(), len(inputs))\n",
    "                optimizer.zero_grad()\n",
    "                loss.backward()\n",
    "                optimizer.step()\n",
    "\n",
    "                # edit the print string for tqdm\n",
    "                t.set_postfix(loss='{:.6f}'.format(epoch_losses.avg))\n",
    "                t.update(len(inputs))\n",
    "\n",
    "        torch.save(model.state_dict(), os.path.join(args.outputs_dir, 'epoch_{}.pth'.format(epoch)))\n",
    "\n",
    "        model.eval()\n",
    "        epoch_psnr = AverageMeter()\n",
    "\n",
    "        for data in eval_dataloader:\n",
    "            inputs, labels = data\n",
    "\n",
    "            inputs = inputs.to(device)\n",
    "            labels = labels.to(device)\n",
    "\n",
    "            with torch.no_grad():\n",
    "                preds = model(inputs).clamp(0.0, 1.0)\n",
    "\n",
    "            epoch_psnr.update(calc_psnr(preds, labels), len(inputs))\n",
    "\n",
    "        print('eval psnr: {:.2f}'.format(epoch_psnr.avg))\n",
    "\n",
    "        if epoch_psnr.avg > best_psnr:\n",
    "            best_epoch = epoch\n",
    "            best_psnr = epoch_psnr.avg\n",
    "            best_weights = copy.deepcopy(model.state_dict())\n",
    "\n",
    "    print('best epoch: {}, psnr: {:.2f}'.format(best_epoch, best_psnr))\n",
    "    torch.save(best_weights, os.path.join(args.outputs_dir, 'best.pth'))\n"
   ]
  },
  {
   "cell_type": "code",
   "execution_count": 10,
   "metadata": {
    "colab": {
     "base_uri": "https://localhost:8080/",
     "height": 1000
    },
    "colab_type": "code",
    "id": "PSxWrPvRXX7p",
    "outputId": "914b4fed-b548-44c1-fcdc-9cf4c8973f4e"
   },
   "outputs": [
    {
     "name": "stderr",
     "output_type": "stream",
     "text": [
      "epoch: 0/199: : 2701it [00:14, 191.10it/s, loss=0.024260]                       \n",
      "epoch: 1/199:   0%|                                    | 0/2688 [00:00<?, ?it/s]"
     ]
    },
    {
     "name": "stdout",
     "output_type": "stream",
     "text": [
      "eval psnr: 25.67\n"
     ]
    },
    {
     "name": "stderr",
     "output_type": "stream",
     "text": [
      "epoch: 1/199: : 2701it [00:04, 668.46it/s, loss=0.004272]                       \n",
      "epoch: 2/199:   0%|                                    | 0/2688 [00:00<?, ?it/s]"
     ]
    },
    {
     "name": "stdout",
     "output_type": "stream",
     "text": [
      "eval psnr: 27.58\n"
     ]
    },
    {
     "name": "stderr",
     "output_type": "stream",
     "text": [
      "epoch: 2/199: : 2701it [00:04, 672.71it/s, loss=0.003181]                       \n",
      "epoch: 3/199:   0%|                                    | 0/2688 [00:00<?, ?it/s]"
     ]
    },
    {
     "name": "stdout",
     "output_type": "stream",
     "text": [
      "eval psnr: 28.76\n"
     ]
    },
    {
     "name": "stderr",
     "output_type": "stream",
     "text": [
      "epoch: 3/199: : 2701it [00:04, 656.91it/s, loss=0.002751]                       \n",
      "epoch: 4/199:   0%|                                    | 0/2688 [00:00<?, ?it/s]"
     ]
    },
    {
     "name": "stdout",
     "output_type": "stream",
     "text": [
      "eval psnr: 29.26\n"
     ]
    },
    {
     "name": "stderr",
     "output_type": "stream",
     "text": [
      "epoch: 4/199: : 2701it [00:04, 667.51it/s, loss=0.002468]                       \n",
      "epoch: 5/199:   0%|                                    | 0/2688 [00:00<?, ?it/s]"
     ]
    },
    {
     "name": "stdout",
     "output_type": "stream",
     "text": [
      "eval psnr: 29.80\n"
     ]
    },
    {
     "name": "stderr",
     "output_type": "stream",
     "text": [
      "epoch: 5/199: : 2701it [00:04, 668.16it/s, loss=0.002246]                       \n",
      "epoch: 6/199:   0%|                                    | 0/2688 [00:00<?, ?it/s]"
     ]
    },
    {
     "name": "stdout",
     "output_type": "stream",
     "text": [
      "eval psnr: 30.25\n"
     ]
    },
    {
     "name": "stderr",
     "output_type": "stream",
     "text": [
      "epoch: 6/199: : 2701it [00:04, 667.34it/s, loss=0.002062]                       \n",
      "epoch: 7/199:   0%|                                    | 0/2688 [00:00<?, ?it/s]"
     ]
    },
    {
     "name": "stdout",
     "output_type": "stream",
     "text": [
      "eval psnr: 30.54\n"
     ]
    },
    {
     "name": "stderr",
     "output_type": "stream",
     "text": [
      "epoch: 7/199: : 2701it [00:04, 672.29it/s, loss=0.001930]                       \n",
      "epoch: 8/199:   0%|                                    | 0/2688 [00:00<?, ?it/s]"
     ]
    },
    {
     "name": "stdout",
     "output_type": "stream",
     "text": [
      "eval psnr: 30.31\n"
     ]
    },
    {
     "name": "stderr",
     "output_type": "stream",
     "text": [
      "epoch: 8/199: : 2701it [00:03, 676.60it/s, loss=0.001852]                       \n",
      "epoch: 9/199:   0%|                                    | 0/2688 [00:00<?, ?it/s]"
     ]
    },
    {
     "name": "stdout",
     "output_type": "stream",
     "text": [
      "eval psnr: 31.08\n"
     ]
    },
    {
     "name": "stderr",
     "output_type": "stream",
     "text": [
      "epoch: 9/199: : 2701it [00:04, 669.34it/s, loss=0.001761]                       \n",
      "epoch: 10/199:   0%|                                   | 0/2688 [00:00<?, ?it/s]"
     ]
    },
    {
     "name": "stdout",
     "output_type": "stream",
     "text": [
      "eval psnr: 31.17\n"
     ]
    },
    {
     "name": "stderr",
     "output_type": "stream",
     "text": [
      "epoch: 10/199: : 2701it [00:04, 663.16it/s, loss=0.001686]                      \n",
      "epoch: 11/199:   0%|                                   | 0/2688 [00:00<?, ?it/s]"
     ]
    },
    {
     "name": "stdout",
     "output_type": "stream",
     "text": [
      "eval psnr: 31.34\n"
     ]
    },
    {
     "name": "stderr",
     "output_type": "stream",
     "text": [
      "epoch: 11/199: : 2701it [00:04, 662.71it/s, loss=0.001639]                      \n",
      "epoch: 12/199:   0%|                                   | 0/2688 [00:00<?, ?it/s]"
     ]
    },
    {
     "name": "stdout",
     "output_type": "stream",
     "text": [
      "eval psnr: 31.40\n"
     ]
    },
    {
     "name": "stderr",
     "output_type": "stream",
     "text": [
      "epoch: 12/199: : 2701it [00:04, 673.77it/s, loss=0.001617]                      \n",
      "epoch: 13/199:   0%|                                   | 0/2688 [00:00<?, ?it/s]"
     ]
    },
    {
     "name": "stdout",
     "output_type": "stream",
     "text": [
      "eval psnr: 31.46\n"
     ]
    },
    {
     "name": "stderr",
     "output_type": "stream",
     "text": [
      "epoch: 13/199: : 2701it [00:04, 660.74it/s, loss=0.001651]                      \n",
      "epoch: 14/199:   0%|                                   | 0/2688 [00:00<?, ?it/s]"
     ]
    },
    {
     "name": "stdout",
     "output_type": "stream",
     "text": [
      "eval psnr: 31.59\n"
     ]
    },
    {
     "name": "stderr",
     "output_type": "stream",
     "text": [
      "epoch: 14/199: : 2701it [00:04, 657.59it/s, loss=0.001544]                      \n",
      "epoch: 15/199:   0%|                                   | 0/2688 [00:00<?, ?it/s]"
     ]
    },
    {
     "name": "stdout",
     "output_type": "stream",
     "text": [
      "eval psnr: 31.64\n"
     ]
    },
    {
     "name": "stderr",
     "output_type": "stream",
     "text": [
      "epoch: 15/199: : 2701it [00:04, 653.32it/s, loss=0.001527]                      \n",
      "epoch: 16/199:   0%|                                   | 0/2688 [00:00<?, ?it/s]"
     ]
    },
    {
     "name": "stdout",
     "output_type": "stream",
     "text": [
      "eval psnr: 31.62\n"
     ]
    },
    {
     "name": "stderr",
     "output_type": "stream",
     "text": [
      "epoch: 16/199: : 2701it [00:04, 660.06it/s, loss=0.001516]                      \n",
      "epoch: 17/199:   0%|                                   | 0/2688 [00:00<?, ?it/s]"
     ]
    },
    {
     "name": "stdout",
     "output_type": "stream",
     "text": [
      "eval psnr: 31.71\n"
     ]
    },
    {
     "name": "stderr",
     "output_type": "stream",
     "text": [
      "epoch: 17/199: : 2701it [00:04, 662.74it/s, loss=0.001554]                      \n",
      "epoch: 18/199:   0%|                                   | 0/2688 [00:00<?, ?it/s]"
     ]
    },
    {
     "name": "stdout",
     "output_type": "stream",
     "text": [
      "eval psnr: 31.76\n"
     ]
    },
    {
     "name": "stderr",
     "output_type": "stream",
     "text": [
      "epoch: 18/199: : 2701it [00:04, 661.65it/s, loss=0.001488]                      \n",
      "epoch: 19/199:   0%|                                   | 0/2688 [00:00<?, ?it/s]"
     ]
    },
    {
     "name": "stdout",
     "output_type": "stream",
     "text": [
      "eval psnr: 31.79\n"
     ]
    },
    {
     "name": "stderr",
     "output_type": "stream",
     "text": [
      "epoch: 19/199: : 2701it [00:04, 664.71it/s, loss=0.001530]                      \n",
      "epoch: 20/199:   0%|                                   | 0/2688 [00:00<?, ?it/s]"
     ]
    },
    {
     "name": "stdout",
     "output_type": "stream",
     "text": [
      "eval psnr: 31.82\n"
     ]
    },
    {
     "name": "stderr",
     "output_type": "stream",
     "text": [
      "epoch: 20/199: : 2701it [00:04, 659.85it/s, loss=0.001472]                      \n",
      "epoch: 21/199:   0%|                                   | 0/2688 [00:00<?, ?it/s]"
     ]
    },
    {
     "name": "stdout",
     "output_type": "stream",
     "text": [
      "eval psnr: 31.81\n"
     ]
    },
    {
     "name": "stderr",
     "output_type": "stream",
     "text": [
      "epoch: 21/199: : 2701it [00:04, 666.59it/s, loss=0.001468]                      \n",
      "epoch: 22/199:   0%|                                   | 0/2688 [00:00<?, ?it/s]"
     ]
    },
    {
     "name": "stdout",
     "output_type": "stream",
     "text": [
      "eval psnr: 31.84\n"
     ]
    },
    {
     "name": "stderr",
     "output_type": "stream",
     "text": [
      "epoch: 22/199: : 2701it [00:04, 660.91it/s, loss=0.001466]                      \n",
      "epoch: 23/199:   0%|                                   | 0/2688 [00:00<?, ?it/s]"
     ]
    },
    {
     "name": "stdout",
     "output_type": "stream",
     "text": [
      "eval psnr: 31.71\n"
     ]
    },
    {
     "name": "stderr",
     "output_type": "stream",
     "text": [
      "epoch: 23/199: : 2701it [00:04, 660.95it/s, loss=0.001479]                      \n",
      "epoch: 24/199:   0%|                                   | 0/2688 [00:00<?, ?it/s]"
     ]
    },
    {
     "name": "stdout",
     "output_type": "stream",
     "text": [
      "eval psnr: 31.83\n"
     ]
    },
    {
     "name": "stderr",
     "output_type": "stream",
     "text": [
      "epoch: 24/199: : 2701it [00:04, 663.67it/s, loss=0.001455]                      \n",
      "epoch: 25/199:   0%|                                   | 0/2688 [00:00<?, ?it/s]"
     ]
    },
    {
     "name": "stdout",
     "output_type": "stream",
     "text": [
      "eval psnr: 31.82\n"
     ]
    },
    {
     "name": "stderr",
     "output_type": "stream",
     "text": [
      "epoch: 25/199: : 2701it [00:04, 669.71it/s, loss=0.001455]                      \n",
      "epoch: 26/199:   0%|                                   | 0/2688 [00:00<?, ?it/s]"
     ]
    },
    {
     "name": "stdout",
     "output_type": "stream",
     "text": [
      "eval psnr: 31.79\n"
     ]
    },
    {
     "name": "stderr",
     "output_type": "stream",
     "text": [
      "epoch: 26/199: : 2701it [00:04, 662.17it/s, loss=0.001476]\n",
      "epoch: 27/199:   0%|                                   | 0/2688 [00:00<?, ?it/s]"
     ]
    },
    {
     "name": "stdout",
     "output_type": "stream",
     "text": [
      "eval psnr: 31.88\n"
     ]
    },
    {
     "name": "stderr",
     "output_type": "stream",
     "text": [
      "epoch: 27/199: : 2701it [00:04, 647.06it/s, loss=0.001447]                      \n",
      "epoch: 28/199:   0%|                                   | 0/2688 [00:00<?, ?it/s]"
     ]
    },
    {
     "name": "stdout",
     "output_type": "stream",
     "text": [
      "eval psnr: 31.86\n"
     ]
    },
    {
     "name": "stderr",
     "output_type": "stream",
     "text": [
      "epoch: 28/199: : 2701it [00:04, 643.66it/s, loss=0.001450]                      \n",
      "epoch: 29/199:   0%|                                   | 0/2688 [00:00<?, ?it/s]"
     ]
    },
    {
     "name": "stdout",
     "output_type": "stream",
     "text": [
      "eval psnr: 31.89\n"
     ]
    },
    {
     "name": "stderr",
     "output_type": "stream",
     "text": [
      "epoch: 29/199: : 2701it [00:04, 652.43it/s, loss=0.001438]                      \n",
      "epoch: 30/199:   0%|                                   | 0/2688 [00:00<?, ?it/s]"
     ]
    },
    {
     "name": "stdout",
     "output_type": "stream",
     "text": [
      "eval psnr: 31.83\n"
     ]
    },
    {
     "name": "stderr",
     "output_type": "stream",
     "text": [
      "epoch: 30/199: : 2701it [00:04, 657.66it/s, loss=0.001447]                      \n",
      "epoch: 31/199:   0%|                                   | 0/2688 [00:00<?, ?it/s]"
     ]
    },
    {
     "name": "stdout",
     "output_type": "stream",
     "text": [
      "eval psnr: 31.65\n"
     ]
    },
    {
     "name": "stderr",
     "output_type": "stream",
     "text": [
      "epoch: 31/199: : 2701it [00:04, 657.10it/s, loss=0.001436]                      \n",
      "epoch: 32/199:   0%|                                   | 0/2688 [00:00<?, ?it/s]"
     ]
    },
    {
     "name": "stdout",
     "output_type": "stream",
     "text": [
      "eval psnr: 31.85\n"
     ]
    },
    {
     "name": "stderr",
     "output_type": "stream",
     "text": [
      "epoch: 32/199: : 2701it [00:04, 652.06it/s, loss=0.001460]                      \n",
      "epoch: 33/199:   0%|                                   | 0/2688 [00:00<?, ?it/s]"
     ]
    },
    {
     "name": "stdout",
     "output_type": "stream",
     "text": [
      "eval psnr: 31.95\n"
     ]
    },
    {
     "name": "stderr",
     "output_type": "stream",
     "text": [
      "epoch: 33/199: : 2701it [00:04, 652.33it/s, loss=0.001429]                      \n",
      "epoch: 34/199:   0%|                                   | 0/2688 [00:00<?, ?it/s]"
     ]
    },
    {
     "name": "stdout",
     "output_type": "stream",
     "text": [
      "eval psnr: 31.92\n"
     ]
    },
    {
     "name": "stderr",
     "output_type": "stream",
     "text": [
      "epoch: 34/199: : 2701it [00:04, 656.21it/s, loss=0.001425]                      \n",
      "epoch: 35/199:   0%|                                   | 0/2688 [00:00<?, ?it/s]"
     ]
    },
    {
     "name": "stdout",
     "output_type": "stream",
     "text": [
      "eval psnr: 31.96\n"
     ]
    },
    {
     "name": "stderr",
     "output_type": "stream",
     "text": [
      "epoch: 35/199: : 2701it [00:04, 668.00it/s, loss=0.001426]                      \n",
      "epoch: 36/199:   0%|                                   | 0/2688 [00:00<?, ?it/s]"
     ]
    },
    {
     "name": "stdout",
     "output_type": "stream",
     "text": [
      "eval psnr: 31.96\n"
     ]
    },
    {
     "name": "stderr",
     "output_type": "stream",
     "text": [
      "epoch: 36/199: : 2701it [00:04, 667.86it/s, loss=0.001445]                      \n",
      "epoch: 37/199:   0%|                                   | 0/2688 [00:00<?, ?it/s]"
     ]
    },
    {
     "name": "stdout",
     "output_type": "stream",
     "text": [
      "eval psnr: 31.81\n"
     ]
    },
    {
     "name": "stderr",
     "output_type": "stream",
     "text": [
      "epoch: 37/199: : 2701it [00:04, 660.64it/s, loss=0.001421]                      \n",
      "epoch: 38/199:   0%|                                   | 0/2688 [00:00<?, ?it/s]"
     ]
    },
    {
     "name": "stdout",
     "output_type": "stream",
     "text": [
      "eval psnr: 31.95\n"
     ]
    },
    {
     "name": "stderr",
     "output_type": "stream",
     "text": [
      "epoch: 38/199: : 2701it [00:04, 659.73it/s, loss=0.001417]                      \n",
      "epoch: 39/199:   0%|                                   | 0/2688 [00:00<?, ?it/s]"
     ]
    },
    {
     "name": "stdout",
     "output_type": "stream",
     "text": [
      "eval psnr: 31.99\n"
     ]
    },
    {
     "name": "stderr",
     "output_type": "stream",
     "text": [
      "epoch: 39/199: : 2701it [00:04, 655.37it/s, loss=0.001423]                      \n",
      "epoch: 40/199:   0%|                                   | 0/2688 [00:00<?, ?it/s]"
     ]
    },
    {
     "name": "stdout",
     "output_type": "stream",
     "text": [
      "eval psnr: 31.75\n"
     ]
    },
    {
     "name": "stderr",
     "output_type": "stream",
     "text": [
      "epoch: 40/199: : 2701it [00:04, 666.49it/s, loss=0.001439]                      \n",
      "epoch: 41/199:   0%|                                   | 0/2688 [00:00<?, ?it/s]"
     ]
    },
    {
     "name": "stdout",
     "output_type": "stream",
     "text": [
      "eval psnr: 32.00\n"
     ]
    },
    {
     "name": "stderr",
     "output_type": "stream",
     "text": [
      "epoch: 41/199: : 2701it [00:04, 669.84it/s, loss=0.001409]                      \n",
      "epoch: 42/199:   0%|                                   | 0/2688 [00:00<?, ?it/s]"
     ]
    },
    {
     "name": "stdout",
     "output_type": "stream",
     "text": [
      "eval psnr: 32.00\n"
     ]
    },
    {
     "name": "stderr",
     "output_type": "stream",
     "text": [
      "epoch: 42/199: : 2701it [00:04, 659.37it/s, loss=0.001408]                      \n",
      "epoch: 43/199:   0%|                                   | 0/2688 [00:00<?, ?it/s]"
     ]
    },
    {
     "name": "stdout",
     "output_type": "stream",
     "text": [
      "eval psnr: 31.92\n"
     ]
    },
    {
     "name": "stderr",
     "output_type": "stream",
     "text": [
      "epoch: 43/199: : 2701it [00:04, 667.06it/s, loss=0.001409]                      \n",
      "epoch: 44/199:   0%|                                   | 0/2688 [00:00<?, ?it/s]"
     ]
    },
    {
     "name": "stdout",
     "output_type": "stream",
     "text": [
      "eval psnr: 31.83\n"
     ]
    },
    {
     "name": "stderr",
     "output_type": "stream",
     "text": [
      "epoch: 44/199: : 2701it [00:04, 662.43it/s, loss=0.001403]                      \n",
      "epoch: 45/199:   0%|                                   | 0/2688 [00:00<?, ?it/s]"
     ]
    },
    {
     "name": "stdout",
     "output_type": "stream",
     "text": [
      "eval psnr: 32.04\n"
     ]
    },
    {
     "name": "stderr",
     "output_type": "stream",
     "text": [
      "epoch: 45/199: : 2701it [00:04, 658.61it/s, loss=0.001406]                      \n",
      "epoch: 46/199:   0%|                                   | 0/2688 [00:00<?, ?it/s]"
     ]
    },
    {
     "name": "stdout",
     "output_type": "stream",
     "text": [
      "eval psnr: 32.09\n"
     ]
    },
    {
     "name": "stderr",
     "output_type": "stream",
     "text": [
      "epoch: 46/199: : 2701it [00:04, 646.13it/s, loss=0.001397]                      \n",
      "epoch: 47/199:   0%|                                   | 0/2688 [00:00<?, ?it/s]"
     ]
    },
    {
     "name": "stdout",
     "output_type": "stream",
     "text": [
      "eval psnr: 32.11\n"
     ]
    },
    {
     "name": "stderr",
     "output_type": "stream",
     "text": [
      "epoch: 47/199: : 2701it [00:04, 642.27it/s, loss=0.001391]                      \n",
      "epoch: 48/199:   0%|                                   | 0/2688 [00:00<?, ?it/s]"
     ]
    },
    {
     "name": "stdout",
     "output_type": "stream",
     "text": [
      "eval psnr: 32.14\n"
     ]
    },
    {
     "name": "stderr",
     "output_type": "stream",
     "text": [
      "epoch: 48/199: : 2701it [00:04, 647.25it/s, loss=0.001386]                      \n",
      "epoch: 49/199:   0%|                                   | 0/2688 [00:00<?, ?it/s]"
     ]
    },
    {
     "name": "stdout",
     "output_type": "stream",
     "text": [
      "eval psnr: 32.15\n"
     ]
    },
    {
     "name": "stderr",
     "output_type": "stream",
     "text": [
      "epoch: 49/199: : 2701it [00:04, 651.79it/s, loss=0.001380]                      \n",
      "epoch: 50/199:   0%|                                   | 0/2688 [00:00<?, ?it/s]"
     ]
    },
    {
     "name": "stdout",
     "output_type": "stream",
     "text": [
      "eval psnr: 32.17\n"
     ]
    },
    {
     "name": "stderr",
     "output_type": "stream",
     "text": [
      "epoch: 50/199: : 2701it [00:04, 593.88it/s, loss=0.001392]                      \n",
      "epoch: 51/199:   0%|                                   | 0/2688 [00:00<?, ?it/s]"
     ]
    },
    {
     "name": "stdout",
     "output_type": "stream",
     "text": [
      "eval psnr: 32.14\n"
     ]
    },
    {
     "name": "stderr",
     "output_type": "stream",
     "text": [
      "epoch: 51/199: : 2701it [00:04, 663.69it/s, loss=0.001369]                      \n",
      "epoch: 52/199:   0%|                                   | 0/2688 [00:00<?, ?it/s]"
     ]
    },
    {
     "name": "stdout",
     "output_type": "stream",
     "text": [
      "eval psnr: 32.21\n"
     ]
    },
    {
     "name": "stderr",
     "output_type": "stream",
     "text": [
      "epoch: 52/199: : 2701it [00:04, 661.65it/s, loss=0.001367]                      \n",
      "epoch: 53/199:   0%|                                   | 0/2688 [00:00<?, ?it/s]"
     ]
    },
    {
     "name": "stdout",
     "output_type": "stream",
     "text": [
      "eval psnr: 32.22\n"
     ]
    },
    {
     "name": "stderr",
     "output_type": "stream",
     "text": [
      "epoch: 53/199: : 2701it [00:04, 658.21it/s, loss=0.001370]                      \n",
      "epoch: 54/199:   0%|                                   | 0/2688 [00:00<?, ?it/s]"
     ]
    },
    {
     "name": "stdout",
     "output_type": "stream",
     "text": [
      "eval psnr: 32.21\n"
     ]
    },
    {
     "name": "stderr",
     "output_type": "stream",
     "text": [
      "epoch: 54/199: : 2701it [00:04, 661.60it/s, loss=0.001358]                      \n",
      "epoch: 55/199:   0%|                                   | 0/2688 [00:00<?, ?it/s]"
     ]
    },
    {
     "name": "stdout",
     "output_type": "stream",
     "text": [
      "eval psnr: 32.29\n"
     ]
    },
    {
     "name": "stderr",
     "output_type": "stream",
     "text": [
      "epoch: 55/199: : 2701it [00:04, 657.17it/s, loss=0.001354]                      \n",
      "epoch: 56/199:   0%|                                   | 0/2688 [00:00<?, ?it/s]"
     ]
    },
    {
     "name": "stdout",
     "output_type": "stream",
     "text": [
      "eval psnr: 32.29\n"
     ]
    },
    {
     "name": "stderr",
     "output_type": "stream",
     "text": [
      "epoch: 56/199: : 2701it [00:04, 662.69it/s, loss=0.001353]                      \n",
      "epoch: 57/199:   0%|                                   | 0/2688 [00:00<?, ?it/s]"
     ]
    },
    {
     "name": "stdout",
     "output_type": "stream",
     "text": [
      "eval psnr: 32.32\n"
     ]
    },
    {
     "name": "stderr",
     "output_type": "stream",
     "text": [
      "epoch: 57/199: : 2701it [00:04, 669.94it/s, loss=0.001348]                      \n",
      "epoch: 58/199:   0%|                                   | 0/2688 [00:00<?, ?it/s]"
     ]
    },
    {
     "name": "stdout",
     "output_type": "stream",
     "text": [
      "eval psnr: 31.88\n"
     ]
    },
    {
     "name": "stderr",
     "output_type": "stream",
     "text": [
      "epoch: 58/199: : 2701it [00:04, 660.08it/s, loss=0.001353]                      \n",
      "epoch: 59/199:   0%|                                   | 0/2688 [00:00<?, ?it/s]"
     ]
    },
    {
     "name": "stdout",
     "output_type": "stream",
     "text": [
      "eval psnr: 32.36\n"
     ]
    },
    {
     "name": "stderr",
     "output_type": "stream",
     "text": [
      "epoch: 59/199: : 2701it [00:04, 650.03it/s, loss=0.001339]                      \n",
      "epoch: 60/199:   0%|                                   | 0/2688 [00:00<?, ?it/s]"
     ]
    },
    {
     "name": "stdout",
     "output_type": "stream",
     "text": [
      "eval psnr: 32.39\n"
     ]
    },
    {
     "name": "stderr",
     "output_type": "stream",
     "text": [
      "epoch: 60/199: : 2701it [00:04, 659.08it/s, loss=0.001347]                      \n",
      "epoch: 61/199:   0%|                                   | 0/2688 [00:00<?, ?it/s]"
     ]
    },
    {
     "name": "stdout",
     "output_type": "stream",
     "text": [
      "eval psnr: 32.35\n"
     ]
    },
    {
     "name": "stderr",
     "output_type": "stream",
     "text": [
      "epoch: 61/199: : 2701it [00:04, 660.59it/s, loss=0.001339]                      \n",
      "epoch: 62/199:   0%|                                   | 0/2688 [00:00<?, ?it/s]"
     ]
    },
    {
     "name": "stdout",
     "output_type": "stream",
     "text": [
      "eval psnr: 32.28\n"
     ]
    },
    {
     "name": "stderr",
     "output_type": "stream",
     "text": [
      "epoch: 62/199: : 2701it [00:04, 665.42it/s, loss=0.001334]                      \n",
      "epoch: 63/199:   0%|                                   | 0/2688 [00:00<?, ?it/s]"
     ]
    },
    {
     "name": "stdout",
     "output_type": "stream",
     "text": [
      "eval psnr: 32.37\n"
     ]
    },
    {
     "name": "stderr",
     "output_type": "stream",
     "text": [
      "epoch: 63/199: : 2701it [00:04, 662.74it/s, loss=0.001326]                      \n",
      "epoch: 64/199:   0%|                                   | 0/2688 [00:00<?, ?it/s]"
     ]
    },
    {
     "name": "stdout",
     "output_type": "stream",
     "text": [
      "eval psnr: 32.44\n"
     ]
    },
    {
     "name": "stderr",
     "output_type": "stream",
     "text": [
      "epoch: 64/199: : 2701it [00:04, 659.62it/s, loss=0.001327]                      \n",
      "epoch: 65/199:   0%|                                   | 0/2688 [00:00<?, ?it/s]"
     ]
    },
    {
     "name": "stdout",
     "output_type": "stream",
     "text": [
      "eval psnr: 32.48\n"
     ]
    },
    {
     "name": "stderr",
     "output_type": "stream",
     "text": [
      "epoch: 65/199: : 2701it [00:04, 662.24it/s, loss=0.001327]                      \n",
      "epoch: 66/199:   0%|                                   | 0/2688 [00:00<?, ?it/s]"
     ]
    },
    {
     "name": "stdout",
     "output_type": "stream",
     "text": [
      "eval psnr: 32.48\n"
     ]
    },
    {
     "name": "stderr",
     "output_type": "stream",
     "text": [
      "epoch: 66/199: : 2701it [00:04, 663.79it/s, loss=0.001317]                      \n",
      "epoch: 67/199:   0%|                                   | 0/2688 [00:00<?, ?it/s]"
     ]
    },
    {
     "name": "stdout",
     "output_type": "stream",
     "text": [
      "eval psnr: 32.49\n"
     ]
    },
    {
     "name": "stderr",
     "output_type": "stream",
     "text": [
      "epoch: 67/199: : 2701it [00:04, 661.86it/s, loss=0.001320]                      \n",
      "epoch: 68/199:   0%|                                   | 0/2688 [00:00<?, ?it/s]"
     ]
    },
    {
     "name": "stdout",
     "output_type": "stream",
     "text": [
      "eval psnr: 32.52\n"
     ]
    },
    {
     "name": "stderr",
     "output_type": "stream",
     "text": [
      "epoch: 68/199: : 2701it [00:04, 651.78it/s, loss=0.001312]                      \n",
      "epoch: 69/199:   0%|                                   | 0/2688 [00:00<?, ?it/s]"
     ]
    },
    {
     "name": "stdout",
     "output_type": "stream",
     "text": [
      "eval psnr: 32.55\n"
     ]
    },
    {
     "name": "stderr",
     "output_type": "stream",
     "text": [
      "epoch: 69/199: : 2701it [00:04, 649.49it/s, loss=0.001318]                      \n",
      "epoch: 70/199:   0%|                                   | 0/2688 [00:00<?, ?it/s]"
     ]
    },
    {
     "name": "stdout",
     "output_type": "stream",
     "text": [
      "eval psnr: 32.52\n"
     ]
    },
    {
     "name": "stderr",
     "output_type": "stream",
     "text": [
      "epoch: 70/199: : 2701it [00:04, 662.74it/s, loss=0.001305]                      \n",
      "epoch: 71/199:   0%|                                   | 0/2688 [00:00<?, ?it/s]"
     ]
    },
    {
     "name": "stdout",
     "output_type": "stream",
     "text": [
      "eval psnr: 32.53\n"
     ]
    },
    {
     "name": "stderr",
     "output_type": "stream",
     "text": [
      "epoch: 71/199: : 2701it [00:04, 659.18it/s, loss=0.001309]                      \n",
      "epoch: 72/199:   0%|                                   | 0/2688 [00:00<?, ?it/s]"
     ]
    },
    {
     "name": "stdout",
     "output_type": "stream",
     "text": [
      "eval psnr: 32.52\n"
     ]
    },
    {
     "name": "stderr",
     "output_type": "stream",
     "text": [
      "epoch: 72/199: : 2701it [00:04, 658.65it/s, loss=0.001299]                      \n",
      "epoch: 73/199:   0%|                                   | 0/2688 [00:00<?, ?it/s]"
     ]
    },
    {
     "name": "stdout",
     "output_type": "stream",
     "text": [
      "eval psnr: 32.60\n"
     ]
    },
    {
     "name": "stderr",
     "output_type": "stream",
     "text": [
      "epoch: 73/199: : 2701it [00:04, 659.66it/s, loss=0.001296]                      \n",
      "epoch: 74/199:   0%|                                   | 0/2688 [00:00<?, ?it/s]"
     ]
    },
    {
     "name": "stdout",
     "output_type": "stream",
     "text": [
      "eval psnr: 32.59\n"
     ]
    },
    {
     "name": "stderr",
     "output_type": "stream",
     "text": [
      "epoch: 74/199: : 2701it [00:04, 654.67it/s, loss=0.001295]                      \n",
      "epoch: 75/199:   0%|                                   | 0/2688 [00:00<?, ?it/s]"
     ]
    },
    {
     "name": "stdout",
     "output_type": "stream",
     "text": [
      "eval psnr: 32.49\n"
     ]
    },
    {
     "name": "stderr",
     "output_type": "stream",
     "text": [
      "epoch: 75/199: : 2701it [00:04, 661.01it/s, loss=0.001298]                      \n",
      "epoch: 76/199:   0%|                                   | 0/2688 [00:00<?, ?it/s]"
     ]
    },
    {
     "name": "stdout",
     "output_type": "stream",
     "text": [
      "eval psnr: 32.55\n"
     ]
    },
    {
     "name": "stderr",
     "output_type": "stream",
     "text": [
      "epoch: 76/199: : 2701it [00:04, 657.73it/s, loss=0.001290]                      \n",
      "epoch: 77/199:   0%|                                   | 0/2688 [00:00<?, ?it/s]"
     ]
    },
    {
     "name": "stdout",
     "output_type": "stream",
     "text": [
      "eval psnr: 32.62\n"
     ]
    },
    {
     "name": "stderr",
     "output_type": "stream",
     "text": [
      "epoch: 77/199: : 2701it [00:04, 665.81it/s, loss=0.001297]                      \n",
      "epoch: 78/199:   0%|                                   | 0/2688 [00:00<?, ?it/s]"
     ]
    },
    {
     "name": "stdout",
     "output_type": "stream",
     "text": [
      "eval psnr: 32.56\n"
     ]
    },
    {
     "name": "stderr",
     "output_type": "stream",
     "text": [
      "epoch: 78/199: : 2701it [00:04, 659.33it/s, loss=0.001286]                      \n",
      "epoch: 79/199:   0%|                                   | 0/2688 [00:00<?, ?it/s]"
     ]
    },
    {
     "name": "stdout",
     "output_type": "stream",
     "text": [
      "eval psnr: 32.34\n"
     ]
    },
    {
     "name": "stderr",
     "output_type": "stream",
     "text": [
      "epoch: 79/199: : 2701it [00:04, 663.81it/s, loss=0.001284]                      \n",
      "epoch: 80/199:   0%|                                   | 0/2688 [00:00<?, ?it/s]"
     ]
    },
    {
     "name": "stdout",
     "output_type": "stream",
     "text": [
      "eval psnr: 32.56\n"
     ]
    },
    {
     "name": "stderr",
     "output_type": "stream",
     "text": [
      "epoch: 80/199: : 2701it [00:04, 661.04it/s, loss=0.001290]                      \n",
      "epoch: 81/199:   0%|                                   | 0/2688 [00:00<?, ?it/s]"
     ]
    },
    {
     "name": "stdout",
     "output_type": "stream",
     "text": [
      "eval psnr: 32.68\n"
     ]
    },
    {
     "name": "stderr",
     "output_type": "stream",
     "text": [
      "epoch: 81/199: : 2701it [00:04, 662.51it/s, loss=0.001283]                      \n",
      "epoch: 82/199:   0%|                                   | 0/2688 [00:00<?, ?it/s]"
     ]
    },
    {
     "name": "stdout",
     "output_type": "stream",
     "text": [
      "eval psnr: 32.40\n"
     ]
    },
    {
     "name": "stderr",
     "output_type": "stream",
     "text": [
      "epoch: 82/199: : 2701it [00:04, 669.80it/s, loss=0.001284]                      \n",
      "epoch: 83/199:   0%|                                   | 0/2688 [00:00<?, ?it/s]"
     ]
    },
    {
     "name": "stdout",
     "output_type": "stream",
     "text": [
      "eval psnr: 32.70\n"
     ]
    },
    {
     "name": "stderr",
     "output_type": "stream",
     "text": [
      "epoch: 83/199: : 2701it [00:04, 664.45it/s, loss=0.001273]                      \n",
      "epoch: 84/199:   0%|                                   | 0/2688 [00:00<?, ?it/s]"
     ]
    },
    {
     "name": "stdout",
     "output_type": "stream",
     "text": [
      "eval psnr: 32.72\n"
     ]
    },
    {
     "name": "stderr",
     "output_type": "stream",
     "text": [
      "epoch: 84/199: : 2701it [00:04, 663.33it/s, loss=0.001277]                      \n",
      "epoch: 85/199:   0%|                                   | 0/2688 [00:00<?, ?it/s]"
     ]
    },
    {
     "name": "stdout",
     "output_type": "stream",
     "text": [
      "eval psnr: 32.68\n"
     ]
    },
    {
     "name": "stderr",
     "output_type": "stream",
     "text": [
      "epoch: 85/199: : 2701it [00:04, 665.35it/s, loss=0.001270]                      \n",
      "epoch: 86/199:   0%|                                   | 0/2688 [00:00<?, ?it/s]"
     ]
    },
    {
     "name": "stdout",
     "output_type": "stream",
     "text": [
      "eval psnr: 32.71\n"
     ]
    },
    {
     "name": "stderr",
     "output_type": "stream",
     "text": [
      "epoch: 86/199: : 2701it [00:04, 659.21it/s, loss=0.001274]                      \n",
      "epoch: 87/199:   0%|                                   | 0/2688 [00:00<?, ?it/s]"
     ]
    },
    {
     "name": "stdout",
     "output_type": "stream",
     "text": [
      "eval psnr: 32.69\n"
     ]
    },
    {
     "name": "stderr",
     "output_type": "stream",
     "text": [
      "epoch: 87/199: : 2701it [00:04, 647.39it/s, loss=0.001270]                      \n",
      "epoch: 88/199:   0%|                                   | 0/2688 [00:00<?, ?it/s]"
     ]
    },
    {
     "name": "stdout",
     "output_type": "stream",
     "text": [
      "eval psnr: 32.75\n"
     ]
    },
    {
     "name": "stderr",
     "output_type": "stream",
     "text": [
      "epoch: 88/199: : 2701it [00:04, 660.93it/s, loss=0.001267]                      \n",
      "epoch: 89/199:   0%|                                   | 0/2688 [00:00<?, ?it/s]"
     ]
    },
    {
     "name": "stdout",
     "output_type": "stream",
     "text": [
      "eval psnr: 32.62\n"
     ]
    },
    {
     "name": "stderr",
     "output_type": "stream",
     "text": [
      "epoch: 89/199: : 2701it [00:04, 658.93it/s, loss=0.001279]                      \n",
      "epoch: 90/199:   0%|                                   | 0/2688 [00:00<?, ?it/s]"
     ]
    },
    {
     "name": "stdout",
     "output_type": "stream",
     "text": [
      "eval psnr: 32.74\n"
     ]
    },
    {
     "name": "stderr",
     "output_type": "stream",
     "text": [
      "epoch: 90/199: : 2701it [00:04, 655.30it/s, loss=0.001264]                      \n",
      "epoch: 91/199:   0%|                                   | 0/2688 [00:00<?, ?it/s]"
     ]
    },
    {
     "name": "stdout",
     "output_type": "stream",
     "text": [
      "eval psnr: 32.69\n"
     ]
    },
    {
     "name": "stderr",
     "output_type": "stream",
     "text": [
      "epoch: 91/199: : 2701it [00:04, 663.37it/s, loss=0.001262]                      \n",
      "epoch: 92/199:   0%|                                   | 0/2688 [00:00<?, ?it/s]"
     ]
    },
    {
     "name": "stdout",
     "output_type": "stream",
     "text": [
      "eval psnr: 32.75\n"
     ]
    },
    {
     "name": "stderr",
     "output_type": "stream",
     "text": [
      "epoch: 92/199: : 2701it [00:04, 667.05it/s, loss=0.001266]                      \n",
      "epoch: 93/199:   0%|                                   | 0/2688 [00:00<?, ?it/s]"
     ]
    },
    {
     "name": "stdout",
     "output_type": "stream",
     "text": [
      "eval psnr: 31.42\n"
     ]
    },
    {
     "name": "stderr",
     "output_type": "stream",
     "text": [
      "epoch: 93/199: : 2701it [00:04, 667.88it/s, loss=0.001264]                      \n",
      "epoch: 94/199:   0%|                                   | 0/2688 [00:00<?, ?it/s]"
     ]
    },
    {
     "name": "stdout",
     "output_type": "stream",
     "text": [
      "eval psnr: 32.74\n"
     ]
    },
    {
     "name": "stderr",
     "output_type": "stream",
     "text": [
      "epoch: 94/199: : 2701it [00:04, 665.93it/s, loss=0.001258]                      \n",
      "epoch: 95/199:   0%|                                   | 0/2688 [00:00<?, ?it/s]"
     ]
    },
    {
     "name": "stdout",
     "output_type": "stream",
     "text": [
      "eval psnr: 32.76\n"
     ]
    },
    {
     "name": "stderr",
     "output_type": "stream",
     "text": [
      "epoch: 95/199: : 2701it [00:04, 660.37it/s, loss=0.001260]                      \n",
      "epoch: 96/199:   0%|                                   | 0/2688 [00:00<?, ?it/s]"
     ]
    },
    {
     "name": "stdout",
     "output_type": "stream",
     "text": [
      "eval psnr: 32.50\n"
     ]
    },
    {
     "name": "stderr",
     "output_type": "stream",
     "text": [
      "epoch: 96/199: : 2701it [00:04, 667.67it/s, loss=0.001272]\n",
      "epoch: 97/199:   0%|                                   | 0/2688 [00:00<?, ?it/s]"
     ]
    },
    {
     "name": "stdout",
     "output_type": "stream",
     "text": [
      "eval psnr: 32.71\n"
     ]
    },
    {
     "name": "stderr",
     "output_type": "stream",
     "text": [
      "epoch: 97/199: : 2701it [00:04, 663.22it/s, loss=0.001254]                      \n",
      "epoch: 98/199:   0%|                                   | 0/2688 [00:00<?, ?it/s]"
     ]
    },
    {
     "name": "stdout",
     "output_type": "stream",
     "text": [
      "eval psnr: 32.75\n"
     ]
    },
    {
     "name": "stderr",
     "output_type": "stream",
     "text": [
      "epoch: 98/199: : 2701it [00:04, 660.52it/s, loss=0.001257]                      \n",
      "epoch: 99/199:   0%|                                   | 0/2688 [00:00<?, ?it/s]"
     ]
    },
    {
     "name": "stdout",
     "output_type": "stream",
     "text": [
      "eval psnr: 32.64\n"
     ]
    },
    {
     "name": "stderr",
     "output_type": "stream",
     "text": [
      "epoch: 99/199: : 2701it [00:04, 665.93it/s, loss=0.001253]                      \n",
      "epoch: 100/199:   0%|                                  | 0/2688 [00:00<?, ?it/s]"
     ]
    },
    {
     "name": "stdout",
     "output_type": "stream",
     "text": [
      "eval psnr: 32.76\n"
     ]
    },
    {
     "name": "stderr",
     "output_type": "stream",
     "text": [
      "epoch: 100/199: : 2701it [00:04, 653.77it/s, loss=0.001256]                     \n",
      "epoch: 101/199:   0%|                                  | 0/2688 [00:00<?, ?it/s]"
     ]
    },
    {
     "name": "stdout",
     "output_type": "stream",
     "text": [
      "eval psnr: 32.78\n"
     ]
    },
    {
     "name": "stderr",
     "output_type": "stream",
     "text": [
      "epoch: 101/199: : 2701it [00:04, 666.11it/s, loss=0.001259]                     \n",
      "epoch: 102/199:   0%|                                  | 0/2688 [00:00<?, ?it/s]"
     ]
    },
    {
     "name": "stdout",
     "output_type": "stream",
     "text": [
      "eval psnr: 32.76\n"
     ]
    },
    {
     "name": "stderr",
     "output_type": "stream",
     "text": [
      "epoch: 102/199: : 2701it [00:04, 658.11it/s, loss=0.001250]                     \n",
      "epoch: 103/199:   0%|                                  | 0/2688 [00:00<?, ?it/s]"
     ]
    },
    {
     "name": "stdout",
     "output_type": "stream",
     "text": [
      "eval psnr: 32.75\n"
     ]
    },
    {
     "name": "stderr",
     "output_type": "stream",
     "text": [
      "epoch: 103/199: : 2701it [00:04, 664.27it/s, loss=0.001253]                     \n",
      "epoch: 104/199:   0%|                                  | 0/2688 [00:00<?, ?it/s]"
     ]
    },
    {
     "name": "stdout",
     "output_type": "stream",
     "text": [
      "eval psnr: 32.81\n"
     ]
    },
    {
     "name": "stderr",
     "output_type": "stream",
     "text": [
      "epoch: 104/199: : 2701it [00:04, 664.83it/s, loss=0.001252]                     \n",
      "epoch: 105/199:   0%|                                  | 0/2688 [00:00<?, ?it/s]"
     ]
    },
    {
     "name": "stdout",
     "output_type": "stream",
     "text": [
      "eval psnr: 32.80\n"
     ]
    },
    {
     "name": "stderr",
     "output_type": "stream",
     "text": [
      "epoch: 105/199: : 2701it [00:04, 660.83it/s, loss=0.001261]                     \n",
      "epoch: 106/199:   0%|                                  | 0/2688 [00:00<?, ?it/s]"
     ]
    },
    {
     "name": "stdout",
     "output_type": "stream",
     "text": [
      "eval psnr: 32.77\n"
     ]
    },
    {
     "name": "stderr",
     "output_type": "stream",
     "text": [
      "epoch: 106/199: : 2701it [00:04, 655.40it/s, loss=0.001248]                     \n",
      "epoch: 107/199:   0%|                                  | 0/2688 [00:00<?, ?it/s]"
     ]
    },
    {
     "name": "stdout",
     "output_type": "stream",
     "text": [
      "eval psnr: 32.80\n"
     ]
    },
    {
     "name": "stderr",
     "output_type": "stream",
     "text": [
      "epoch: 107/199: : 2701it [00:04, 663.96it/s, loss=0.001246]                     \n",
      "epoch: 108/199:   0%|                                  | 0/2688 [00:00<?, ?it/s]"
     ]
    },
    {
     "name": "stdout",
     "output_type": "stream",
     "text": [
      "eval psnr: 32.81\n"
     ]
    },
    {
     "name": "stderr",
     "output_type": "stream",
     "text": [
      "epoch: 108/199: : 2701it [00:04, 658.80it/s, loss=0.001250]                     \n",
      "epoch: 109/199:   0%|                                  | 0/2688 [00:00<?, ?it/s]"
     ]
    },
    {
     "name": "stdout",
     "output_type": "stream",
     "text": [
      "eval psnr: 32.81\n"
     ]
    },
    {
     "name": "stderr",
     "output_type": "stream",
     "text": [
      "epoch: 109/199: : 2701it [00:04, 659.10it/s, loss=0.001248]                     \n",
      "epoch: 110/199:   0%|                                  | 0/2688 [00:00<?, ?it/s]"
     ]
    },
    {
     "name": "stdout",
     "output_type": "stream",
     "text": [
      "eval psnr: 32.79\n"
     ]
    },
    {
     "name": "stderr",
     "output_type": "stream",
     "text": [
      "epoch: 110/199: : 2701it [00:04, 668.73it/s, loss=0.001245]                     \n",
      "epoch: 111/199:   0%|                                  | 0/2688 [00:00<?, ?it/s]"
     ]
    },
    {
     "name": "stdout",
     "output_type": "stream",
     "text": [
      "eval psnr: 32.72\n"
     ]
    },
    {
     "name": "stderr",
     "output_type": "stream",
     "text": [
      "epoch: 111/199: : 2701it [00:04, 665.48it/s, loss=0.001247]                     \n",
      "epoch: 112/199:   0%|                                  | 0/2688 [00:00<?, ?it/s]"
     ]
    },
    {
     "name": "stdout",
     "output_type": "stream",
     "text": [
      "eval psnr: 32.86\n"
     ]
    },
    {
     "name": "stderr",
     "output_type": "stream",
     "text": [
      "epoch: 112/199: : 2701it [00:04, 660.30it/s, loss=0.001242]                     \n",
      "epoch: 113/199:   0%|                                  | 0/2688 [00:00<?, ?it/s]"
     ]
    },
    {
     "name": "stdout",
     "output_type": "stream",
     "text": [
      "eval psnr: 32.80\n"
     ]
    },
    {
     "name": "stderr",
     "output_type": "stream",
     "text": [
      "epoch: 113/199: : 2701it [00:04, 665.02it/s, loss=0.001257]                     \n",
      "epoch: 114/199:   0%|                                  | 0/2688 [00:00<?, ?it/s]"
     ]
    },
    {
     "name": "stdout",
     "output_type": "stream",
     "text": [
      "eval psnr: 32.85\n"
     ]
    },
    {
     "name": "stderr",
     "output_type": "stream",
     "text": [
      "epoch: 114/199: : 2701it [00:04, 662.39it/s, loss=0.001240]                     \n",
      "epoch: 115/199:   0%|                                  | 0/2688 [00:00<?, ?it/s]"
     ]
    },
    {
     "name": "stdout",
     "output_type": "stream",
     "text": [
      "eval psnr: 32.84\n"
     ]
    },
    {
     "name": "stderr",
     "output_type": "stream",
     "text": [
      "epoch: 115/199: : 2701it [00:04, 656.28it/s, loss=0.001244]                     \n",
      "epoch: 116/199:   0%|                                  | 0/2688 [00:00<?, ?it/s]"
     ]
    },
    {
     "name": "stdout",
     "output_type": "stream",
     "text": [
      "eval psnr: 32.84\n"
     ]
    },
    {
     "name": "stderr",
     "output_type": "stream",
     "text": [
      "epoch: 116/199: : 2701it [00:04, 662.32it/s, loss=0.001242]                     \n",
      "epoch: 117/199:   0%|                                  | 0/2688 [00:00<?, ?it/s]"
     ]
    },
    {
     "name": "stdout",
     "output_type": "stream",
     "text": [
      "eval psnr: 32.79\n"
     ]
    },
    {
     "name": "stderr",
     "output_type": "stream",
     "text": [
      "epoch: 117/199: : 2701it [00:04, 666.22it/s, loss=0.001240]                     \n",
      "epoch: 118/199:   0%|                                  | 0/2688 [00:00<?, ?it/s]"
     ]
    },
    {
     "name": "stdout",
     "output_type": "stream",
     "text": [
      "eval psnr: 32.81\n"
     ]
    },
    {
     "name": "stderr",
     "output_type": "stream",
     "text": [
      "epoch: 118/199: : 2701it [00:04, 668.05it/s, loss=0.001242]                     \n",
      "epoch: 119/199:   0%|                                  | 0/2688 [00:00<?, ?it/s]"
     ]
    },
    {
     "name": "stdout",
     "output_type": "stream",
     "text": [
      "eval psnr: 32.80\n"
     ]
    },
    {
     "name": "stderr",
     "output_type": "stream",
     "text": [
      "epoch: 119/199: : 2701it [00:04, 659.94it/s, loss=0.001241]                     \n",
      "epoch: 120/199:   0%|                                  | 0/2688 [00:00<?, ?it/s]"
     ]
    },
    {
     "name": "stdout",
     "output_type": "stream",
     "text": [
      "eval psnr: 32.75\n"
     ]
    },
    {
     "name": "stderr",
     "output_type": "stream",
     "text": [
      "epoch: 120/199: : 2701it [00:04, 661.27it/s, loss=0.001238]                     \n",
      "epoch: 121/199:   0%|                                  | 0/2688 [00:00<?, ?it/s]"
     ]
    },
    {
     "name": "stdout",
     "output_type": "stream",
     "text": [
      "eval psnr: 32.74\n"
     ]
    },
    {
     "name": "stderr",
     "output_type": "stream",
     "text": [
      "epoch: 121/199: : 2701it [00:04, 640.15it/s, loss=0.001238]                     \n",
      "epoch: 122/199:   0%|                                  | 0/2688 [00:00<?, ?it/s]"
     ]
    },
    {
     "name": "stdout",
     "output_type": "stream",
     "text": [
      "eval psnr: 32.78\n"
     ]
    },
    {
     "name": "stderr",
     "output_type": "stream",
     "text": [
      "epoch: 122/199: : 2701it [00:04, 636.02it/s, loss=0.001248]                     \n",
      "epoch: 123/199:   0%|                                  | 0/2688 [00:00<?, ?it/s]"
     ]
    },
    {
     "name": "stdout",
     "output_type": "stream",
     "text": [
      "eval psnr: 32.86\n"
     ]
    },
    {
     "name": "stderr",
     "output_type": "stream",
     "text": [
      "epoch: 123/199: : 2701it [00:04, 654.78it/s, loss=0.001235]                     \n",
      "epoch: 124/199:   0%|                                  | 0/2688 [00:00<?, ?it/s]"
     ]
    },
    {
     "name": "stdout",
     "output_type": "stream",
     "text": [
      "eval psnr: 32.83\n"
     ]
    },
    {
     "name": "stderr",
     "output_type": "stream",
     "text": [
      "epoch: 124/199: : 2701it [00:04, 665.29it/s, loss=0.001237]                     \n",
      "epoch: 125/199:   0%|                                  | 0/2688 [00:00<?, ?it/s]"
     ]
    },
    {
     "name": "stdout",
     "output_type": "stream",
     "text": [
      "eval psnr: 32.57\n"
     ]
    },
    {
     "name": "stderr",
     "output_type": "stream",
     "text": [
      "epoch: 125/199: : 2701it [00:04, 666.54it/s, loss=0.001238]                     \n",
      "epoch: 126/199:   0%|                                  | 0/2688 [00:00<?, ?it/s]"
     ]
    },
    {
     "name": "stdout",
     "output_type": "stream",
     "text": [
      "eval psnr: 32.81\n"
     ]
    },
    {
     "name": "stderr",
     "output_type": "stream",
     "text": [
      "epoch: 126/199: : 2701it [00:04, 657.22it/s, loss=0.001234]                     \n",
      "epoch: 127/199:   0%|                                  | 0/2688 [00:00<?, ?it/s]"
     ]
    },
    {
     "name": "stdout",
     "output_type": "stream",
     "text": [
      "eval psnr: 32.88\n"
     ]
    },
    {
     "name": "stderr",
     "output_type": "stream",
     "text": [
      "epoch: 127/199: : 2701it [00:04, 649.59it/s, loss=0.001237]                     \n",
      "epoch: 128/199:   0%|                                  | 0/2688 [00:00<?, ?it/s]"
     ]
    },
    {
     "name": "stdout",
     "output_type": "stream",
     "text": [
      "eval psnr: 32.88\n"
     ]
    },
    {
     "name": "stderr",
     "output_type": "stream",
     "text": [
      "epoch: 128/199: : 2701it [00:04, 670.73it/s, loss=0.001236]                     \n",
      "epoch: 129/199:   0%|                                  | 0/2688 [00:00<?, ?it/s]"
     ]
    },
    {
     "name": "stdout",
     "output_type": "stream",
     "text": [
      "eval psnr: 32.82\n"
     ]
    },
    {
     "name": "stderr",
     "output_type": "stream",
     "text": [
      "epoch: 129/199: : 2701it [00:04, 652.77it/s, loss=0.001237]                     \n",
      "epoch: 130/199:   0%|                                  | 0/2688 [00:00<?, ?it/s]"
     ]
    },
    {
     "name": "stdout",
     "output_type": "stream",
     "text": [
      "eval psnr: 32.82\n"
     ]
    },
    {
     "name": "stderr",
     "output_type": "stream",
     "text": [
      "epoch: 130/199: : 2701it [00:04, 654.34it/s, loss=0.001234]                     \n",
      "epoch: 131/199:   0%|                                  | 0/2688 [00:00<?, ?it/s]"
     ]
    },
    {
     "name": "stdout",
     "output_type": "stream",
     "text": [
      "eval psnr: 32.84\n"
     ]
    },
    {
     "name": "stderr",
     "output_type": "stream",
     "text": [
      "epoch: 131/199: : 2701it [00:04, 666.59it/s, loss=0.001233]                     \n",
      "epoch: 132/199:   0%|                                  | 0/2688 [00:00<?, ?it/s]"
     ]
    },
    {
     "name": "stdout",
     "output_type": "stream",
     "text": [
      "eval psnr: 32.84\n"
     ]
    },
    {
     "name": "stderr",
     "output_type": "stream",
     "text": [
      "epoch: 132/199: : 2701it [00:04, 665.15it/s, loss=0.001231]                     \n",
      "epoch: 133/199:   0%|                                  | 0/2688 [00:00<?, ?it/s]"
     ]
    },
    {
     "name": "stdout",
     "output_type": "stream",
     "text": [
      "eval psnr: 32.85\n"
     ]
    },
    {
     "name": "stderr",
     "output_type": "stream",
     "text": [
      "epoch: 133/199: : 2701it [00:04, 670.79it/s, loss=0.001233]                     \n",
      "epoch: 134/199:   0%|                                  | 0/2688 [00:00<?, ?it/s]"
     ]
    },
    {
     "name": "stdout",
     "output_type": "stream",
     "text": [
      "eval psnr: 32.75\n"
     ]
    },
    {
     "name": "stderr",
     "output_type": "stream",
     "text": [
      "epoch: 134/199: : 2701it [00:04, 663.84it/s, loss=0.001237]                     \n",
      "epoch: 135/199:   0%|                                  | 0/2688 [00:00<?, ?it/s]"
     ]
    },
    {
     "name": "stdout",
     "output_type": "stream",
     "text": [
      "eval psnr: 32.86\n"
     ]
    },
    {
     "name": "stderr",
     "output_type": "stream",
     "text": [
      "epoch: 135/199: : 2701it [00:04, 656.27it/s, loss=0.001230]                     \n",
      "epoch: 136/199:   0%|                                  | 0/2688 [00:00<?, ?it/s]"
     ]
    },
    {
     "name": "stdout",
     "output_type": "stream",
     "text": [
      "eval psnr: 32.88\n"
     ]
    },
    {
     "name": "stderr",
     "output_type": "stream",
     "text": [
      "epoch: 136/199: : 2701it [00:04, 667.09it/s, loss=0.001228]                     \n",
      "epoch: 137/199:   0%|                                  | 0/2688 [00:00<?, ?it/s]"
     ]
    },
    {
     "name": "stdout",
     "output_type": "stream",
     "text": [
      "eval psnr: 32.91\n"
     ]
    },
    {
     "name": "stderr",
     "output_type": "stream",
     "text": [
      "epoch: 137/199: : 2701it [00:04, 666.11it/s, loss=0.001236]                     \n",
      "epoch: 138/199:   0%|                                  | 0/2688 [00:00<?, ?it/s]"
     ]
    },
    {
     "name": "stdout",
     "output_type": "stream",
     "text": [
      "eval psnr: 32.55\n"
     ]
    },
    {
     "name": "stderr",
     "output_type": "stream",
     "text": [
      "epoch: 138/199: : 2701it [00:04, 659.17it/s, loss=0.001230]                     \n",
      "epoch: 139/199:   0%|                                  | 0/2688 [00:00<?, ?it/s]"
     ]
    },
    {
     "name": "stdout",
     "output_type": "stream",
     "text": [
      "eval psnr: 32.90\n"
     ]
    },
    {
     "name": "stderr",
     "output_type": "stream",
     "text": [
      "epoch: 139/199: : 2701it [00:04, 668.05it/s, loss=0.001229]                     \n",
      "epoch: 140/199:   0%|                                  | 0/2688 [00:00<?, ?it/s]"
     ]
    },
    {
     "name": "stdout",
     "output_type": "stream",
     "text": [
      "eval psnr: 32.89\n"
     ]
    },
    {
     "name": "stderr",
     "output_type": "stream",
     "text": [
      "epoch: 140/199: : 2701it [00:04, 664.31it/s, loss=0.001229]                     \n",
      "epoch: 141/199:   0%|                                  | 0/2688 [00:00<?, ?it/s]"
     ]
    },
    {
     "name": "stdout",
     "output_type": "stream",
     "text": [
      "eval psnr: 32.87\n"
     ]
    },
    {
     "name": "stderr",
     "output_type": "stream",
     "text": [
      "epoch: 141/199: : 2701it [00:04, 666.14it/s, loss=0.001235]                     \n",
      "epoch: 142/199:   0%|                                  | 0/2688 [00:00<?, ?it/s]"
     ]
    },
    {
     "name": "stdout",
     "output_type": "stream",
     "text": [
      "eval psnr: 32.93\n"
     ]
    },
    {
     "name": "stderr",
     "output_type": "stream",
     "text": [
      "epoch: 142/199: : 2701it [00:04, 656.92it/s, loss=0.001226]                     \n",
      "epoch: 143/199:   0%|                                  | 0/2688 [00:00<?, ?it/s]"
     ]
    },
    {
     "name": "stdout",
     "output_type": "stream",
     "text": [
      "eval psnr: 32.91\n"
     ]
    },
    {
     "name": "stderr",
     "output_type": "stream",
     "text": [
      "epoch: 143/199: : 2701it [00:04, 669.56it/s, loss=0.001225]                     \n",
      "epoch: 144/199:   0%|                                  | 0/2688 [00:00<?, ?it/s]"
     ]
    },
    {
     "name": "stdout",
     "output_type": "stream",
     "text": [
      "eval psnr: 32.89\n"
     ]
    },
    {
     "name": "stderr",
     "output_type": "stream",
     "text": [
      "epoch: 144/199: : 2701it [00:04, 671.07it/s, loss=0.001226]                     \n",
      "epoch: 145/199:   0%|                                  | 0/2688 [00:00<?, ?it/s]"
     ]
    },
    {
     "name": "stdout",
     "output_type": "stream",
     "text": [
      "eval psnr: 32.85\n"
     ]
    },
    {
     "name": "stderr",
     "output_type": "stream",
     "text": [
      "epoch: 145/199: : 2701it [00:04, 665.70it/s, loss=0.001225]                     \n",
      "epoch: 146/199:   0%|                                  | 0/2688 [00:00<?, ?it/s]"
     ]
    },
    {
     "name": "stdout",
     "output_type": "stream",
     "text": [
      "eval psnr: 32.73\n"
     ]
    },
    {
     "name": "stderr",
     "output_type": "stream",
     "text": [
      "epoch: 146/199: : 2701it [00:04, 651.39it/s, loss=0.001230]                     \n",
      "epoch: 147/199:   0%|                                  | 0/2688 [00:00<?, ?it/s]"
     ]
    },
    {
     "name": "stdout",
     "output_type": "stream",
     "text": [
      "eval psnr: 32.90\n"
     ]
    },
    {
     "name": "stderr",
     "output_type": "stream",
     "text": [
      "epoch: 147/199: : 2701it [00:04, 659.26it/s, loss=0.001224]                     \n",
      "epoch: 148/199:   0%|                                  | 0/2688 [00:00<?, ?it/s]"
     ]
    },
    {
     "name": "stdout",
     "output_type": "stream",
     "text": [
      "eval psnr: 32.86\n"
     ]
    },
    {
     "name": "stderr",
     "output_type": "stream",
     "text": [
      "epoch: 148/199: : 2701it [00:04, 670.54it/s, loss=0.001235]                     \n",
      "epoch: 149/199:   0%|                                  | 0/2688 [00:00<?, ?it/s]"
     ]
    },
    {
     "name": "stdout",
     "output_type": "stream",
     "text": [
      "eval psnr: 32.90\n"
     ]
    },
    {
     "name": "stderr",
     "output_type": "stream",
     "text": [
      "epoch: 149/199: : 2701it [00:04, 661.09it/s, loss=0.001224]                     \n",
      "epoch: 150/199:   0%|                                  | 0/2688 [00:00<?, ?it/s]"
     ]
    },
    {
     "name": "stdout",
     "output_type": "stream",
     "text": [
      "eval psnr: 32.91\n"
     ]
    },
    {
     "name": "stderr",
     "output_type": "stream",
     "text": [
      "epoch: 150/199: : 2701it [00:04, 671.11it/s, loss=0.001223]                     \n",
      "epoch: 151/199:   0%|                                  | 0/2688 [00:00<?, ?it/s]"
     ]
    },
    {
     "name": "stdout",
     "output_type": "stream",
     "text": [
      "eval psnr: 32.80\n"
     ]
    },
    {
     "name": "stderr",
     "output_type": "stream",
     "text": [
      "epoch: 151/199: : 2701it [00:04, 659.78it/s, loss=0.001224]                     \n",
      "epoch: 152/199:   0%|                                  | 0/2688 [00:00<?, ?it/s]"
     ]
    },
    {
     "name": "stdout",
     "output_type": "stream",
     "text": [
      "eval psnr: 32.87\n"
     ]
    },
    {
     "name": "stderr",
     "output_type": "stream",
     "text": [
      "epoch: 152/199: : 2701it [00:04, 663.39it/s, loss=0.001228]                     \n",
      "epoch: 153/199:   0%|                                  | 0/2688 [00:00<?, ?it/s]"
     ]
    },
    {
     "name": "stdout",
     "output_type": "stream",
     "text": [
      "eval psnr: 32.82\n"
     ]
    },
    {
     "name": "stderr",
     "output_type": "stream",
     "text": [
      "epoch: 153/199: : 2701it [00:04, 667.48it/s, loss=0.001222]                     \n",
      "epoch: 154/199:   0%|                                  | 0/2688 [00:00<?, ?it/s]"
     ]
    },
    {
     "name": "stdout",
     "output_type": "stream",
     "text": [
      "eval psnr: 32.90\n"
     ]
    },
    {
     "name": "stderr",
     "output_type": "stream",
     "text": [
      "epoch: 154/199: : 2701it [00:04, 671.28it/s, loss=0.001225]                     \n",
      "epoch: 155/199:   0%|                                  | 0/2688 [00:00<?, ?it/s]"
     ]
    },
    {
     "name": "stdout",
     "output_type": "stream",
     "text": [
      "eval psnr: 32.80\n"
     ]
    },
    {
     "name": "stderr",
     "output_type": "stream",
     "text": [
      "epoch: 155/199: : 2701it [00:04, 668.96it/s, loss=0.001223]                     \n",
      "epoch: 156/199:   0%|                                  | 0/2688 [00:00<?, ?it/s]"
     ]
    },
    {
     "name": "stdout",
     "output_type": "stream",
     "text": [
      "eval psnr: 32.81\n"
     ]
    },
    {
     "name": "stderr",
     "output_type": "stream",
     "text": [
      "epoch: 156/199: : 2701it [00:04, 667.39it/s, loss=0.001223]                     \n",
      "epoch: 157/199:   0%|                                  | 0/2688 [00:00<?, ?it/s]"
     ]
    },
    {
     "name": "stdout",
     "output_type": "stream",
     "text": [
      "eval psnr: 32.87\n"
     ]
    },
    {
     "name": "stderr",
     "output_type": "stream",
     "text": [
      "epoch: 157/199: : 2701it [00:04, 658.60it/s, loss=0.001221]                     \n",
      "epoch: 158/199:   0%|                                  | 0/2688 [00:00<?, ?it/s]"
     ]
    },
    {
     "name": "stdout",
     "output_type": "stream",
     "text": [
      "eval psnr: 32.91\n"
     ]
    },
    {
     "name": "stderr",
     "output_type": "stream",
     "text": [
      "epoch: 158/199: : 2701it [00:04, 662.74it/s, loss=0.001226]                     \n",
      "epoch: 159/199:   0%|                                  | 0/2688 [00:00<?, ?it/s]"
     ]
    },
    {
     "name": "stdout",
     "output_type": "stream",
     "text": [
      "eval psnr: 32.86\n"
     ]
    },
    {
     "name": "stderr",
     "output_type": "stream",
     "text": [
      "epoch: 159/199: : 2701it [00:04, 669.17it/s, loss=0.001220]                     \n",
      "epoch: 160/199:   0%|                                  | 0/2688 [00:00<?, ?it/s]"
     ]
    },
    {
     "name": "stdout",
     "output_type": "stream",
     "text": [
      "eval psnr: 32.76\n"
     ]
    },
    {
     "name": "stderr",
     "output_type": "stream",
     "text": [
      "epoch: 160/199: : 2701it [00:04, 667.25it/s, loss=0.001207]                     \n",
      "epoch: 161/199:   0%|                                  | 0/2688 [00:00<?, ?it/s]"
     ]
    },
    {
     "name": "stdout",
     "output_type": "stream",
     "text": [
      "eval psnr: 32.98\n"
     ]
    },
    {
     "name": "stderr",
     "output_type": "stream",
     "text": [
      "epoch: 161/199: : 2701it [00:04, 665.96it/s, loss=0.001205]                     \n",
      "epoch: 162/199:   0%|                                  | 0/2688 [00:00<?, ?it/s]"
     ]
    },
    {
     "name": "stdout",
     "output_type": "stream",
     "text": [
      "eval psnr: 32.98\n"
     ]
    },
    {
     "name": "stderr",
     "output_type": "stream",
     "text": [
      "epoch: 162/199: : 2701it [00:04, 659.85it/s, loss=0.001204]                     \n",
      "epoch: 163/199:   0%|                                  | 0/2688 [00:00<?, ?it/s]"
     ]
    },
    {
     "name": "stdout",
     "output_type": "stream",
     "text": [
      "eval psnr: 32.99\n"
     ]
    },
    {
     "name": "stderr",
     "output_type": "stream",
     "text": [
      "epoch: 163/199: : 2701it [00:04, 667.40it/s, loss=0.001204]                     \n",
      "epoch: 164/199:   0%|                                  | 0/2688 [00:00<?, ?it/s]"
     ]
    },
    {
     "name": "stdout",
     "output_type": "stream",
     "text": [
      "eval psnr: 32.98\n"
     ]
    },
    {
     "name": "stderr",
     "output_type": "stream",
     "text": [
      "epoch: 164/199: : 2701it [00:04, 661.09it/s, loss=0.001204]                     \n",
      "epoch: 165/199:   0%|                                  | 0/2688 [00:00<?, ?it/s]"
     ]
    },
    {
     "name": "stdout",
     "output_type": "stream",
     "text": [
      "eval psnr: 32.98\n"
     ]
    },
    {
     "name": "stderr",
     "output_type": "stream",
     "text": [
      "epoch: 165/199: : 2701it [00:04, 653.37it/s, loss=0.001204]                     \n",
      "epoch: 166/199:   0%|                                  | 0/2688 [00:00<?, ?it/s]"
     ]
    },
    {
     "name": "stdout",
     "output_type": "stream",
     "text": [
      "eval psnr: 32.97\n"
     ]
    },
    {
     "name": "stderr",
     "output_type": "stream",
     "text": [
      "epoch: 166/199: : 2701it [00:04, 657.24it/s, loss=0.001204]                     \n",
      "epoch: 167/199:   0%|                                  | 0/2688 [00:00<?, ?it/s]"
     ]
    },
    {
     "name": "stdout",
     "output_type": "stream",
     "text": [
      "eval psnr: 32.98\n"
     ]
    },
    {
     "name": "stderr",
     "output_type": "stream",
     "text": [
      "epoch: 167/199: : 2701it [00:04, 656.55it/s, loss=0.001204]                     \n",
      "epoch: 168/199:   0%|                                  | 0/2688 [00:00<?, ?it/s]"
     ]
    },
    {
     "name": "stdout",
     "output_type": "stream",
     "text": [
      "eval psnr: 32.99\n"
     ]
    },
    {
     "name": "stderr",
     "output_type": "stream",
     "text": [
      "epoch: 168/199: : 2701it [00:04, 666.22it/s, loss=0.001204]                     \n",
      "epoch: 169/199:   0%|                                  | 0/2688 [00:00<?, ?it/s]"
     ]
    },
    {
     "name": "stdout",
     "output_type": "stream",
     "text": [
      "eval psnr: 32.98\n"
     ]
    },
    {
     "name": "stderr",
     "output_type": "stream",
     "text": [
      "epoch: 169/199: : 2701it [00:04, 661.20it/s, loss=0.001204]                     \n",
      "epoch: 170/199:   0%|                                  | 0/2688 [00:00<?, ?it/s]"
     ]
    },
    {
     "name": "stdout",
     "output_type": "stream",
     "text": [
      "eval psnr: 32.99\n"
     ]
    },
    {
     "name": "stderr",
     "output_type": "stream",
     "text": [
      "epoch: 170/199: : 2701it [00:04, 658.51it/s, loss=0.001204]                     \n",
      "epoch: 171/199:   0%|                                  | 0/2688 [00:00<?, ?it/s]"
     ]
    },
    {
     "name": "stdout",
     "output_type": "stream",
     "text": [
      "eval psnr: 32.97\n"
     ]
    },
    {
     "name": "stderr",
     "output_type": "stream",
     "text": [
      "epoch: 171/199: : 2701it [00:04, 663.07it/s, loss=0.001204]                     \n",
      "epoch: 172/199:   0%|                                  | 0/2688 [00:00<?, ?it/s]"
     ]
    },
    {
     "name": "stdout",
     "output_type": "stream",
     "text": [
      "eval psnr: 32.97\n"
     ]
    },
    {
     "name": "stderr",
     "output_type": "stream",
     "text": [
      "epoch: 172/199: : 2701it [00:04, 660.93it/s, loss=0.001204]                     \n",
      "epoch: 173/199:   0%|                                  | 0/2688 [00:00<?, ?it/s]"
     ]
    },
    {
     "name": "stdout",
     "output_type": "stream",
     "text": [
      "eval psnr: 32.98\n"
     ]
    },
    {
     "name": "stderr",
     "output_type": "stream",
     "text": [
      "epoch: 173/199: : 2701it [00:04, 644.50it/s, loss=0.001204]                     \n",
      "epoch: 174/199:   0%|                                  | 0/2688 [00:00<?, ?it/s]"
     ]
    },
    {
     "name": "stdout",
     "output_type": "stream",
     "text": [
      "eval psnr: 32.98\n"
     ]
    },
    {
     "name": "stderr",
     "output_type": "stream",
     "text": [
      "epoch: 174/199: : 2701it [00:04, 663.96it/s, loss=0.001204]                     \n",
      "epoch: 175/199:   0%|                                  | 0/2688 [00:00<?, ?it/s]"
     ]
    },
    {
     "name": "stdout",
     "output_type": "stream",
     "text": [
      "eval psnr: 32.98\n"
     ]
    },
    {
     "name": "stderr",
     "output_type": "stream",
     "text": [
      "epoch: 175/199: : 2701it [00:04, 662.67it/s, loss=0.001204]                     \n",
      "epoch: 176/199:   0%|                                  | 0/2688 [00:00<?, ?it/s]"
     ]
    },
    {
     "name": "stdout",
     "output_type": "stream",
     "text": [
      "eval psnr: 32.99\n"
     ]
    },
    {
     "name": "stderr",
     "output_type": "stream",
     "text": [
      "epoch: 176/199: : 2701it [00:04, 657.45it/s, loss=0.001204]                     \n",
      "epoch: 177/199:   0%|                                  | 0/2688 [00:00<?, ?it/s]"
     ]
    },
    {
     "name": "stdout",
     "output_type": "stream",
     "text": [
      "eval psnr: 32.98\n"
     ]
    },
    {
     "name": "stderr",
     "output_type": "stream",
     "text": [
      "epoch: 177/199: : 2701it [00:04, 665.30it/s, loss=0.001204]                     \n",
      "epoch: 178/199:   0%|                                  | 0/2688 [00:00<?, ?it/s]"
     ]
    },
    {
     "name": "stdout",
     "output_type": "stream",
     "text": [
      "eval psnr: 32.98\n"
     ]
    },
    {
     "name": "stderr",
     "output_type": "stream",
     "text": [
      "epoch: 178/199: : 2701it [00:04, 666.80it/s, loss=0.001203]                     \n",
      "epoch: 179/199:   0%|                                  | 0/2688 [00:00<?, ?it/s]"
     ]
    },
    {
     "name": "stdout",
     "output_type": "stream",
     "text": [
      "eval psnr: 32.98\n"
     ]
    },
    {
     "name": "stderr",
     "output_type": "stream",
     "text": [
      "epoch: 179/199: : 2701it [00:04, 668.54it/s, loss=0.001203]                     \n",
      "epoch: 180/199:   0%|                                  | 0/2688 [00:00<?, ?it/s]"
     ]
    },
    {
     "name": "stdout",
     "output_type": "stream",
     "text": [
      "eval psnr: 32.97\n"
     ]
    },
    {
     "name": "stderr",
     "output_type": "stream",
     "text": [
      "epoch: 180/199: : 2701it [00:04, 659.48it/s, loss=0.001204]                     \n",
      "epoch: 181/199:   0%|                                  | 0/2688 [00:00<?, ?it/s]"
     ]
    },
    {
     "name": "stdout",
     "output_type": "stream",
     "text": [
      "eval psnr: 32.97\n"
     ]
    },
    {
     "name": "stderr",
     "output_type": "stream",
     "text": [
      "epoch: 181/199: : 2701it [00:04, 670.54it/s, loss=0.001203]                     \n",
      "epoch: 182/199:   0%|                                  | 0/2688 [00:00<?, ?it/s]"
     ]
    },
    {
     "name": "stdout",
     "output_type": "stream",
     "text": [
      "eval psnr: 32.99\n"
     ]
    },
    {
     "name": "stderr",
     "output_type": "stream",
     "text": [
      "epoch: 182/199: : 2701it [00:04, 666.04it/s, loss=0.001203]                     \n",
      "epoch: 183/199:   0%|                                  | 0/2688 [00:00<?, ?it/s]"
     ]
    },
    {
     "name": "stdout",
     "output_type": "stream",
     "text": [
      "eval psnr: 32.97\n"
     ]
    },
    {
     "name": "stderr",
     "output_type": "stream",
     "text": [
      "epoch: 183/199: : 2701it [00:04, 670.45it/s, loss=0.001203]                     \n",
      "epoch: 184/199:   0%|                                  | 0/2688 [00:00<?, ?it/s]"
     ]
    },
    {
     "name": "stdout",
     "output_type": "stream",
     "text": [
      "eval psnr: 32.98\n"
     ]
    },
    {
     "name": "stderr",
     "output_type": "stream",
     "text": [
      "epoch: 184/199: : 2701it [00:04, 667.72it/s, loss=0.001203]                     \n",
      "epoch: 185/199:   0%|                                  | 0/2688 [00:00<?, ?it/s]"
     ]
    },
    {
     "name": "stdout",
     "output_type": "stream",
     "text": [
      "eval psnr: 32.98\n"
     ]
    },
    {
     "name": "stderr",
     "output_type": "stream",
     "text": [
      "epoch: 185/199: : 2701it [00:04, 653.99it/s, loss=0.001203]                     \n",
      "epoch: 186/199:   0%|                                  | 0/2688 [00:00<?, ?it/s]"
     ]
    },
    {
     "name": "stdout",
     "output_type": "stream",
     "text": [
      "eval psnr: 32.96\n"
     ]
    },
    {
     "name": "stderr",
     "output_type": "stream",
     "text": [
      "epoch: 186/199: : 2701it [00:04, 654.64it/s, loss=0.001203]                     \n",
      "epoch: 187/199:   0%|                                  | 0/2688 [00:00<?, ?it/s]"
     ]
    },
    {
     "name": "stdout",
     "output_type": "stream",
     "text": [
      "eval psnr: 32.99\n"
     ]
    },
    {
     "name": "stderr",
     "output_type": "stream",
     "text": [
      "epoch: 187/199: : 2701it [00:04, 663.44it/s, loss=0.001203]                     \n",
      "epoch: 188/199:   0%|                                  | 0/2688 [00:00<?, ?it/s]"
     ]
    },
    {
     "name": "stdout",
     "output_type": "stream",
     "text": [
      "eval psnr: 32.97\n"
     ]
    },
    {
     "name": "stderr",
     "output_type": "stream",
     "text": [
      "epoch: 188/199: : 2701it [00:04, 666.62it/s, loss=0.001203]                     \n",
      "epoch: 189/199:   0%|                                  | 0/2688 [00:00<?, ?it/s]"
     ]
    },
    {
     "name": "stdout",
     "output_type": "stream",
     "text": [
      "eval psnr: 32.99\n"
     ]
    },
    {
     "name": "stderr",
     "output_type": "stream",
     "text": [
      "epoch: 189/199: : 2701it [00:04, 667.32it/s, loss=0.001203]                     \n",
      "epoch: 190/199:   0%|                                  | 0/2688 [00:00<?, ?it/s]"
     ]
    },
    {
     "name": "stdout",
     "output_type": "stream",
     "text": [
      "eval psnr: 32.99\n"
     ]
    },
    {
     "name": "stderr",
     "output_type": "stream",
     "text": [
      "epoch: 190/199: : 2701it [00:04, 661.10it/s, loss=0.001203]                     \n",
      "epoch: 191/199:   0%|                                  | 0/2688 [00:00<?, ?it/s]"
     ]
    },
    {
     "name": "stdout",
     "output_type": "stream",
     "text": [
      "eval psnr: 32.98\n"
     ]
    },
    {
     "name": "stderr",
     "output_type": "stream",
     "text": [
      "epoch: 191/199: : 2701it [00:04, 661.63it/s, loss=0.001202]                     \n",
      "epoch: 192/199:   0%|                                  | 0/2688 [00:00<?, ?it/s]"
     ]
    },
    {
     "name": "stdout",
     "output_type": "stream",
     "text": [
      "eval psnr: 32.98\n"
     ]
    },
    {
     "name": "stderr",
     "output_type": "stream",
     "text": [
      "epoch: 192/199: : 2701it [00:04, 665.33it/s, loss=0.001203]                     \n",
      "epoch: 193/199:   0%|                                  | 0/2688 [00:00<?, ?it/s]"
     ]
    },
    {
     "name": "stdout",
     "output_type": "stream",
     "text": [
      "eval psnr: 32.98\n"
     ]
    },
    {
     "name": "stderr",
     "output_type": "stream",
     "text": [
      "epoch: 193/199: : 2701it [00:04, 665.90it/s, loss=0.001202]                     \n",
      "epoch: 194/199:   0%|                                  | 0/2688 [00:00<?, ?it/s]"
     ]
    },
    {
     "name": "stdout",
     "output_type": "stream",
     "text": [
      "eval psnr: 32.98\n"
     ]
    },
    {
     "name": "stderr",
     "output_type": "stream",
     "text": [
      "epoch: 194/199: : 2701it [00:04, 672.35it/s, loss=0.001202]                     \n",
      "epoch: 195/199:   0%|                                  | 0/2688 [00:00<?, ?it/s]"
     ]
    },
    {
     "name": "stdout",
     "output_type": "stream",
     "text": [
      "eval psnr: 32.97\n"
     ]
    },
    {
     "name": "stderr",
     "output_type": "stream",
     "text": [
      "epoch: 195/199: : 2701it [00:04, 665.87it/s, loss=0.001202]                     \n",
      "epoch: 196/199:   0%|                                  | 0/2688 [00:00<?, ?it/s]"
     ]
    },
    {
     "name": "stdout",
     "output_type": "stream",
     "text": [
      "eval psnr: 32.98\n"
     ]
    },
    {
     "name": "stderr",
     "output_type": "stream",
     "text": [
      "epoch: 196/199: : 2701it [00:04, 639.99it/s, loss=0.001202]                     \n",
      "epoch: 197/199:   0%|                                  | 0/2688 [00:00<?, ?it/s]"
     ]
    },
    {
     "name": "stdout",
     "output_type": "stream",
     "text": [
      "eval psnr: 32.97\n"
     ]
    },
    {
     "name": "stderr",
     "output_type": "stream",
     "text": [
      "epoch: 197/199: : 2701it [00:04, 636.05it/s, loss=0.001202]                     \n",
      "epoch: 198/199:   0%|                                  | 0/2688 [00:00<?, ?it/s]"
     ]
    },
    {
     "name": "stdout",
     "output_type": "stream",
     "text": [
      "eval psnr: 32.99\n"
     ]
    },
    {
     "name": "stderr",
     "output_type": "stream",
     "text": [
      "epoch: 198/199: : 2701it [00:04, 647.74it/s, loss=0.001202]                     \n",
      "epoch: 199/199:   0%|                                  | 0/2688 [00:00<?, ?it/s]"
     ]
    },
    {
     "name": "stdout",
     "output_type": "stream",
     "text": [
      "eval psnr: 32.99\n"
     ]
    },
    {
     "name": "stderr",
     "output_type": "stream",
     "text": [
      "epoch: 199/199: : 2701it [00:04, 662.88it/s, loss=0.001202]                     "
     ]
    },
    {
     "name": "stdout",
     "output_type": "stream",
     "text": [
      "eval psnr: 32.98\n",
      "best epoch: 189, psnr: 32.99\n"
     ]
    },
    {
     "name": "stderr",
     "output_type": "stream",
     "text": [
      "\n"
     ]
    }
   ],
   "source": [
    "# Train the model\n",
    "from typing import NamedTuple\n",
    "\n",
    "class Train_args(NamedTuple):\n",
    "    train_file: str\n",
    "    eval_file: str\n",
    "    outputs_dir: str\n",
    "    weights_file: str\n",
    "    scale: int\n",
    "    lr: float\n",
    "    batch_size: int\n",
    "    num_epochs: int\n",
    "    num_workers: int\n",
    "    seed: int\n",
    "\n",
    "train_args = Train_args(\"./drive/My Drive/espcn/91-image_x3.h5\", \"./drive/My Drive/espcn/Set5_x3.h5\",\"./drive/My Drive/espcn/outputs\",'',3,1e-3, 16, 200, 8, 123)\n",
    "# train_args.batch_size\n",
    "train(train_args)"
   ]
  },
  {
   "cell_type": "code",
   "execution_count": 0,
   "metadata": {
    "colab": {},
    "colab_type": "code",
    "id": "UjAVTTxJYH3M"
   },
   "outputs": [],
   "source": [
    "import argparse\n",
    "\n",
    "import torch\n",
    "import torch.backends.cudnn as cudnn\n",
    "import numpy as np\n",
    "import PIL.Image as pil_image\n",
    "\n",
    "# from models import ESPCN\n",
    "# from utils import convert_ycbcr_to_rgb, preprocess, calc_psnr\n",
    "\n",
    "\n",
    "# if __name__ == '__main__':\n",
    "#     parser = argparse.ArgumentParser()\n",
    "#     parser.add_argument('--weights-file', type=str, required=True)\n",
    "#     parser.add_argument('--image-file', type=str, required=True)\n",
    "#     parser.add_argument('--scale', type=int, default=3)\n",
    "#     args = parser.parse_args()\n",
    "def test(args):\n",
    "\n",
    "    cudnn.benchmark = True\n",
    "    device = torch.device('cuda:0' if torch.cuda.is_available() else 'cpu')\n",
    "\n",
    "    model = ESPCN(scale_factor=args.scale).to(device)\n",
    "\n",
    "    state_dict = model.state_dict()\n",
    "    for n, p in torch.load(args.weights_file, map_location=lambda storage, loc: storage).items():\n",
    "        if n in state_dict.keys():\n",
    "            state_dict[n].copy_(p)\n",
    "        else:\n",
    "            raise KeyError(n)\n",
    "\n",
    "    model.eval()\n",
    "\n",
    "    image = pil_image.open(args.image_file).convert('RGB')\n",
    "\n",
    "    image_width = (image.width // args.scale) * args.scale\n",
    "    image_height = (image.height // args.scale) * args.scale\n",
    "\n",
    "    hr = image.resize((image_width, image_height), resample=pil_image.BICUBIC)\n",
    "    lr = hr.resize((hr.width // args.scale, hr.height // args.scale), resample=pil_image.BICUBIC)\n",
    "    bicubic = lr.resize((lr.width * args.scale, lr.height * args.scale), resample=pil_image.BICUBIC)\n",
    "    bicubic.save(args.image_file.replace('.', '_bicubic_x{}.'.format(args.scale)))\n",
    "\n",
    "    lr, _ = preprocess(lr, device)\n",
    "    hr, _ = preprocess(hr, device)\n",
    "    _, ycbcr = preprocess(bicubic, device)\n",
    "\n",
    "    with torch.no_grad():\n",
    "        preds = model(lr).clamp(0.0, 1.0)\n",
    "\n",
    "    psnr = calc_psnr(hr, preds)\n",
    "    print('PSNR: {:.2f}'.format(psnr))\n",
    "\n",
    "    preds = preds.mul(255.0).cpu().numpy().squeeze(0).squeeze(0)\n",
    "\n",
    "    output = np.array([preds, ycbcr[..., 1], ycbcr[..., 2]]).transpose([1, 2, 0])\n",
    "    output = np.clip(convert_ycbcr_to_rgb(output), 0.0, 255.0).astype(np.uint8)\n",
    "    output = pil_image.fromarray(output)\n",
    "    output.save(args.image_file.replace('.', '_espcn_x{}.'.format(args.scale)))\n"
   ]
  },
  {
   "cell_type": "code",
   "execution_count": 0,
   "metadata": {
    "colab": {},
    "colab_type": "code",
    "id": "uuz2W5u9YQ-Q"
   },
   "outputs": [],
   "source": [
    "class Test_args(NamedTuple):\n",
    "    weights_file: str\n",
    "    image_file: str\n",
    "    scale: int\n",
    "\n",
    "test_args = Test_args(\"./drive/My Drive/espcn/outputs/x3/best.pth\", \"THE IMAGE FILE YOU WANT TO TEST\", 3)\n",
    "test(test_args)"
   ]
  },
  {
   "cell_type": "code",
   "execution_count": 0,
   "metadata": {
    "colab": {},
    "colab_type": "code",
    "id": "ds7GNGAGazmc"
   },
   "outputs": [],
   "source": []
  }
 ],
 "metadata": {
  "accelerator": "GPU",
  "colab": {
   "collapsed_sections": [],
   "include_colab_link": true,
   "name": "colab_espcn.ipynb",
   "provenance": []
  },
  "kernelspec": {
   "display_name": "Python 3",
   "language": "python",
   "name": "python3"
  },
  "language_info": {
   "codemirror_mode": {
    "name": "ipython",
    "version": 3
   },
   "file_extension": ".py",
   "mimetype": "text/x-python",
   "name": "python",
   "nbconvert_exporter": "python",
   "pygments_lexer": "ipython3",
   "version": "3.7.4"
  }
 },
 "nbformat": 4,
 "nbformat_minor": 1
}
